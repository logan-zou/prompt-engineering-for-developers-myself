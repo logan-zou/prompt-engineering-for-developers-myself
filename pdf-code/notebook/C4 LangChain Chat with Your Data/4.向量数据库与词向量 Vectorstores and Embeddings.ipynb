{
 "cells": [
  {
   "cell_type": "markdown",
   "id": "0d647f70",
   "metadata": {},
   "source": [
    "# 第四章 向量数据库与词向量(Vectorstores and Embeddings)\n"
   ]
  },
  {
   "cell_type": "markdown",
   "id": "ea9da9ec",
   "metadata": {},
   "source": [
    "让我们一起回顾一下检索增强生成（RAG）的整体工作流程："
   ]
  },
  {
   "cell_type": "markdown",
   "id": "125247c2",
   "metadata": {},
   "source": [
    "![overview.jpeg](../../../figures/docs/C4/overview.png)"
   ]
  },
  {
   "cell_type": "markdown",
   "id": "460a54b0",
   "metadata": {},
   "source": [
    "前两节课我们讨论了 `Document Loading`（文档加载）和 `Splitting`（分割）。\n",
    "\n",
    "下面我们将使用前两节课的知识对文档进行加载分割。"
   ]
  },
  {
   "cell_type": "markdown",
   "id": "18e077a0",
   "metadata": {},
   "source": [
    "## 一、读取文档"
   ]
  },
  {
   "cell_type": "markdown",
   "id": "d1ed78d9",
   "metadata": {},
   "source": [
    "下面文档是 datawhale 官方开源的 matplotlib 教程链接 https://datawhalechina.github.io/fantastic-matplotlib/index.html ，可在该网站上下载对应的教程。\n",
    "\n",
    "注意，本章节需要安装第三方库`pypdf`、`chromadb`"
   ]
  },
  {
   "cell_type": "code",
   "execution_count": 5,
   "id": "11de2150",
   "metadata": {},
   "outputs": [],
   "source": [
    "from langchain.document_loaders import PyPDFLoader\n",
    "\n",
    "# 加载 PDF\n",
    "loaders_chinese = [\n",
    "    # 故意添加重复文档，使数据混乱\n",
    "    PyPDFLoader(\"docs/matplotlib/第一回：Matplotlib初相识.pdf\"),\n",
    "    PyPDFLoader(\"docs/matplotlib/第一回：Matplotlib初相识.pdf\"),\n",
    "    PyPDFLoader(\"docs/matplotlib/第二回：艺术画笔见乾坤.pdf\"),\n",
    "    PyPDFLoader(\"docs/matplotlib/第三回：布局格式定方圆.pdf\")\n",
    "]\n",
    "docs = []\n",
    "for loader in loaders_chinese:\n",
    "    docs.extend(loader.load())"
   ]
  },
  {
   "cell_type": "markdown",
   "id": "4b497f5c",
   "metadata": {},
   "source": [
    "在文档加载后，我们可以使用`RecursiveCharacterTextSplitter`(递归字符文本拆分器)来创建块。"
   ]
  },
  {
   "cell_type": "code",
   "execution_count": 8,
   "id": "eb44bf0d",
   "metadata": {
    "height": 115,
    "tags": []
   },
   "outputs": [
    {
     "name": "stdout",
     "output_type": "stream",
     "text": [
      "27\n"
     ]
    }
   ],
   "source": [
    "# 分割文本\n",
    "from langchain.text_splitter import RecursiveCharacterTextSplitter\n",
    "text_splitter = RecursiveCharacterTextSplitter(\n",
    "    chunk_size = 1500,  # 每个文本块的大小。这意味着每次切分文本时，会尽量使每个块包含 1500 个字符。\n",
    "    chunk_overlap = 150  # 每个文本块之间的重叠部分。\n",
    ")\n",
    "\n",
    "splits = text_splitter.split_documents(docs)\n",
    "\n",
    "print(len(splits))"
   ]
  },
  {
   "cell_type": "markdown",
   "id": "848e26fd",
   "metadata": {},
   "source": [
    "## 二、Embeddings\n",
    "\n",
    "什么是`Embeddings`？\n",
    "\n",
    "在机器学习和自然语言处理（NLP）中，`Embeddings`（嵌入）是一种将类别数据，如单词、句子或者整个文档，转化为实数向量的技术。这些实数向量可以被计算机更好地理解和处理。嵌入背后的主要想法是，相似或相关的对象在嵌入空间中的距离应该很近。\n",
    "\n",
    "举个例子，我们可以使用词嵌入（word embeddings）来表示文本数据。在词嵌入中，每个单词被转换为一个向量，这个向量捕获了这个单词的语义信息。例如，\"king\" 和 \"queen\" 这两个单词在嵌入空间中的位置将会非常接近，因为它们的含义相似。而 \"apple\" 和 \"orange\" 也会很接近，因为它们都是水果。而 \"king\" 和 \"apple\" 这两个单词在嵌入空间中的距离就会比较远，因为它们的含义不同。\n",
    "\n",
    "让我们取出我们的切分部分并对它们进行`Embedding`处理。"
   ]
  },
  {
   "cell_type": "code",
   "execution_count": 10,
   "id": "d9dca7a8",
   "metadata": {
    "height": 47,
    "tags": []
   },
   "outputs": [],
   "source": [
    "from langchain.embeddings.openai import OpenAIEmbeddings\n",
    "embedding = OpenAIEmbeddings()"
   ]
  },
  {
   "cell_type": "markdown",
   "id": "6ca11792",
   "metadata": {},
   "source": [
    "在使用真实文档数据的例子之前，让我们用几个测试案例的句子来试试，以便了解`embedding`。\n",
    "\n",
    "下面有几个示例句子，其中前两个非常相似，第三个与之无关。然后我们可以使用`embedding`类为每个句子创建一个`embedding`。"
   ]
  },
  {
   "cell_type": "code",
   "execution_count": 11,
   "id": "c4099521",
   "metadata": {
    "height": 64,
    "tags": []
   },
   "outputs": [],
   "source": [
    "sentence1_chinese = \"我喜欢狗\"\n",
    "sentence2_chinese = \"我喜欢犬科动物\"\n",
    "sentence3_chinese = \"外面的天气很糟糕\"\n",
    "\n",
    "embedding1_chinese = embedding.embed_query(sentence1_chinese)\n",
    "embedding2_chinese = embedding.embed_query(sentence2_chinese)\n",
    "embedding3_chinese = embedding.embed_query(sentence3_chinese)"
   ]
  },
  {
   "cell_type": "markdown",
   "id": "6b2805d4",
   "metadata": {},
   "source": [
    "然后我们可以使用`numpy`来比较它们，看看哪些最相似。\n",
    "\n",
    "我们期望前两个句子应该非常相似。\n",
    "\n",
    "然后，第一和第二个与第三个相比应该相差很大。\n",
    "\n",
    "我们将使用点积来比较两个嵌入。\n",
    "\n",
    "如果你不知道什么是点积，没关系。你只需要知道的重要一点是，分数越高句子越相似。"
   ]
  },
  {
   "cell_type": "code",
   "execution_count": 13,
   "id": "49fc0f8f",
   "metadata": {
    "height": 30,
    "tags": []
   },
   "outputs": [
    {
     "data": {
      "text/plain": [
       "0.9440614936689298"
      ]
     },
     "execution_count": 13,
     "metadata": {},
     "output_type": "execute_result"
    }
   ],
   "source": [
    "import numpy as np\n",
    "\n",
    "np.dot(embedding1_chinese, embedding2_chinese)"
   ]
  },
  {
   "cell_type": "markdown",
   "id": "ed774031",
   "metadata": {},
   "source": [
    "我们可以看到前两个`embedding`的分数相当高，为0.94。"
   ]
  },
  {
   "cell_type": "code",
   "execution_count": 13,
   "id": "32a1fac7",
   "metadata": {
    "height": 30,
    "tags": []
   },
   "outputs": [
    {
     "data": {
      "text/plain": [
       "0.792186975021313"
      ]
     },
     "execution_count": 13,
     "metadata": {},
     "output_type": "execute_result"
    }
   ],
   "source": [
    "np.dot(embedding1_chinese, embedding3_chinese)"
   ]
  },
  {
   "cell_type": "markdown",
   "id": "24b3d131",
   "metadata": {},
   "source": [
    "如果我们将第一个`embedding`与第三个`embedding`进行比较，我们可以看到它明显较低，约为0.79。"
   ]
  },
  {
   "cell_type": "code",
   "execution_count": 14,
   "id": "9dd18328",
   "metadata": {
    "height": 30,
    "tags": []
   },
   "outputs": [
    {
     "data": {
      "text/plain": [
       "0.7804109942586283"
      ]
     },
     "execution_count": 14,
     "metadata": {},
     "output_type": "execute_result"
    }
   ],
   "source": [
    "np.dot(embedding2_chinese, embedding3_chinese)"
   ]
  },
  {
   "cell_type": "markdown",
   "id": "9a17a527",
   "metadata": {},
   "source": [
    "我们将第二个`embedding`和第三个`embedding`进行比较，我们可以看到它的分数大约为0.78。"
   ]
  },
  {
   "cell_type": "markdown",
   "id": "4fc7b24f",
   "metadata": {},
   "source": [
    "## 三、Vectorstores"
   ]
  },
  {
   "cell_type": "markdown",
   "id": "54776973",
   "metadata": {},
   "source": [
    "### 3.1 初始化Chroma"
   ]
  },
  {
   "cell_type": "markdown",
   "id": "20916c7c",
   "metadata": {},
   "source": [
    "Langchain集成了超过30个不同的向量存储库。我们选择Chroma是因为它轻量级且数据存储在内存中，这使得它非常容易启动和开始使用。"
   ]
  },
  {
   "cell_type": "markdown",
   "id": "be65cd08",
   "metadata": {},
   "source": [
    "首先我们指定一个持久化路径："
   ]
  },
  {
   "cell_type": "code",
   "execution_count": 16,
   "id": "201e6afa",
   "metadata": {
    "height": 30,
    "tags": []
   },
   "outputs": [],
   "source": [
    "from langchain.vectorstores import Chroma\n",
    "\n",
    "persist_directory_chinese = 'docs/chroma/matplotlib/'"
   ]
  },
  {
   "cell_type": "markdown",
   "id": "d720e2b7",
   "metadata": {},
   "source": [
    "如果该路径存在旧的数据库文件，可以通过以下命令删除："
   ]
  },
  {
   "cell_type": "code",
   "execution_count": 14,
   "id": "570a2768",
   "metadata": {},
   "outputs": [],
   "source": [
    "!rm -rf './docs/chroma/matplotlib'  # 删除旧的数据库文件（如果文件夹中有文件的话）"
   ]
  },
  {
   "cell_type": "markdown",
   "id": "945d53cc",
   "metadata": {},
   "source": [
    "接着从已加载的文档中创建一个向量数据库："
   ]
  },
  {
   "cell_type": "code",
   "execution_count": 18,
   "id": "1e03438d",
   "metadata": {},
   "outputs": [
    {
     "name": "stderr",
     "output_type": "stream",
     "text": [
      "100%|██████████| 1/1 [00:01<00:00,  1.64s/it]\n"
     ]
    }
   ],
   "source": [
    "vectordb_chinese = Chroma.from_documents(\n",
    "    documents=splits,\n",
    "    embedding=embedding,\n",
    "    persist_directory=persist_directory_chinese  # 允许我们将persist_directory目录保存到磁盘上\n",
    ")"
   ]
  },
  {
   "cell_type": "markdown",
   "id": "f07f0bf7",
   "metadata": {},
   "source": [
    "可以看到数据库长度也是30，这与我们之前的切分数量是一样的。现在让我们开始使用它。"
   ]
  },
  {
   "cell_type": "code",
   "execution_count": 19,
   "id": "cf87aba0",
   "metadata": {},
   "outputs": [
    {
     "name": "stdout",
     "output_type": "stream",
     "text": [
      "27\n"
     ]
    }
   ],
   "source": [
    "print(vectordb_chinese._collection.count())"
   ]
  },
  {
   "cell_type": "markdown",
   "id": "efca7589",
   "metadata": {},
   "source": [
    "### 3.2 相似性搜索(Similarity Search)"
   ]
  },
  {
   "cell_type": "markdown",
   "id": "28753ef3",
   "metadata": {},
   "source": [
    "首先我们定义一个需要检索答案的问题："
   ]
  },
  {
   "cell_type": "code",
   "execution_count": 21,
   "id": "53bcc061",
   "metadata": {},
   "outputs": [],
   "source": [
    "question_chinese = \"Matplotlib是什么？\" "
   ]
  },
  {
   "cell_type": "markdown",
   "id": "a87e46d4",
   "metadata": {},
   "source": [
    "接着调用已加载的向量数据库根据相似性检索答案："
   ]
  },
  {
   "cell_type": "code",
   "execution_count": 22,
   "id": "2d2dc834",
   "metadata": {},
   "outputs": [],
   "source": [
    "docs_chinese = vectordb_chinese.similarity_search(question_chinese,k=3)"
   ]
  },
  {
   "cell_type": "markdown",
   "id": "5649e850",
   "metadata": {},
   "source": [
    "查看检索答案数量："
   ]
  },
  {
   "cell_type": "code",
   "execution_count": 23,
   "id": "eebe77e7",
   "metadata": {},
   "outputs": [
    {
     "data": {
      "text/plain": [
       "3"
      ]
     },
     "execution_count": 23,
     "metadata": {},
     "output_type": "execute_result"
    }
   ],
   "source": [
    "len(docs_chinese)"
   ]
  },
  {
   "cell_type": "markdown",
   "id": "9a763d61",
   "metadata": {},
   "source": [
    "打印其 page_content 属性可以看到检索答案的文本："
   ]
  },
  {
   "cell_type": "code",
   "execution_count": 24,
   "id": "860af154",
   "metadata": {},
   "outputs": [
    {
     "name": "stdout",
     "output_type": "stream",
     "text": [
      "第⼀回：Matplotlib 初相识\n",
      "⼀、认识matplotlib\n",
      "Matplotlib 是⼀个 Python 2D 绘图库，能够以多种硬拷⻉格式和跨平台的交互式环境⽣成出版物质量的图形，⽤来绘制各种静态，动态，\n",
      "交互式的图表。\n",
      "Matplotlib 可⽤于 Python 脚本， Python 和 IPython Shell 、 Jupyter notebook ， Web 应⽤程序服务器和各种图形⽤户界⾯⼯具包等。\n",
      "Matplotlib 是 Python 数据可视化库中的泰⽃，它已经成为 python 中公认的数据可视化⼯具，我们所熟知的 pandas 和 seaborn 的绘图接⼝\n",
      "其实也是基于 matplotlib 所作的⾼级封装。\n",
      "为了对matplotlib 有更好的理解，让我们从⼀些最基本的概念开始认识它，再逐渐过渡到⼀些⾼级技巧中。\n",
      "⼆、⼀个最简单的绘图例⼦\n",
      "Matplotlib 的图像是画在 figure （如 windows ， jupyter 窗体）上的，每⼀个 figure ⼜包含了⼀个或多个 axes （⼀个可以指定坐标系的⼦区\n",
      "域）。最简单的创建 figure 以及 axes 的⽅式是通过 pyplot.subplots命令，创建 axes 以后，可以使⽤ Axes.plot绘制最简易的折线图。\n",
      "import matplotlib.pyplot as plt\n",
      "import matplotlib as mpl\n",
      "import numpy as np\n",
      "fig, ax = plt.subplots()  # 创建⼀个包含⼀个 axes 的 figure\n",
      "ax.plot([1, 2, 3, 4], [1, 4, 2, 3]);  # 绘制图像\n",
      "Trick： 在jupyter notebook 中使⽤ matplotlib 时会发现，代码运⾏后⾃动打印出类似 <matplotlib.lines.Line2D at 0x23155916dc0>\n",
      "这样⼀段话，这是因为 matplotlib 的绘图代码默认打印出最后⼀个对象。如果不想显示这句话，有以下三种⽅法，在本章节的代码示例\n",
      "中你能找到这三种⽅法的使⽤。\n",
      "\u0000. 在代码块最后加⼀个分号 ;\n",
      "\u0000. 在代码块最后加⼀句 plt.show()\n",
      "\u0000. 在绘图时将绘图对象显式赋值给⼀个变量，如将 plt.plot([1, 2, 3, 4]) 改成 line =plt.plot([1, 2, 3, 4])\n",
      "和MATLAB 命令类似，你还可以通过⼀种更简单的⽅式绘制图像， matplotlib.pyplot⽅法能够直接在当前 axes 上绘制图像，如果⽤户\n",
      "未指定axes ， matplotlib 会帮你⾃动创建⼀个。所以上⾯的例⼦也可以简化为以下这⼀⾏代码。\n",
      "line =plt.plot([1, 2, 3, 4], [1, 4, 2, 3]) \n",
      "三、Figure 的组成\n",
      "现在我们来深⼊看⼀下 figure 的组成。通过⼀张 figure 解剖图，我们可以看到⼀个完整的 matplotlib 图像通常会包括以下四个层级，这些\n",
      "层级也被称为容器（ container ），下⼀节会详细介绍。在 matplotlib 的世界中，我们将通过各种命令⽅法来操纵图像中的每⼀个部分，\n",
      "从⽽达到数据可视化的最终效果，⼀副完整的图像实际上是各类⼦元素的集合。\n",
      "Figure：顶层级，⽤来容纳所有绘图元素\n"
     ]
    }
   ],
   "source": [
    "print(docs_chinese[0].page_content)"
   ]
  },
  {
   "cell_type": "markdown",
   "id": "fba57a1d",
   "metadata": {},
   "source": [
    "在此之后，我们要确保通过运行vectordb.persist来持久化向量数据库，以便我们在未来的课程中使用。\n"
   ]
  },
  {
   "cell_type": "code",
   "execution_count": 25,
   "id": "9065f5b1",
   "metadata": {},
   "outputs": [],
   "source": [
    "vectordb_chinese.persist()"
   ]
  },
  {
   "cell_type": "markdown",
   "id": "cefe9f6a",
   "metadata": {},
   "source": [
    "## 四、失败的情况(Failure modes)"
   ]
  },
  {
   "cell_type": "markdown",
   "id": "089da0ca",
   "metadata": {},
   "source": [
    "这看起来很好，基本的相似性搜索很容易就能让你完成80%的工作。但是，可能会出现一些相似性搜索失败的情况。这里有一些可能出现的边缘情况————我们将在下一章节中修复它们。"
   ]
  },
  {
   "cell_type": "markdown",
   "id": "c83aa7f9",
   "metadata": {},
   "source": [
    "### 4.1 重复块"
   ]
  },
  {
   "cell_type": "code",
   "execution_count": 27,
   "id": "34359d7a",
   "metadata": {},
   "outputs": [],
   "source": [
    "question_chinese = \"Matplotlib是什么？\"\n",
    "\n",
    "docs_chinese = vectordb_chinese.similarity_search(question_chinese,k=5)"
   ]
  },
  {
   "cell_type": "markdown",
   "id": "2a9f579e",
   "metadata": {},
   "source": [
    "请注意，我们得到了重复的块（因为索引中有重复的 `第一回：Matplotlib初相识.pdf`）。\n",
    "\n",
    "语义搜索获取所有相似的文档，但不强制多样性。\n",
    "\n",
    "`docs[0]` 和 `docs[1]` 是完全相同的。"
   ]
  },
  {
   "cell_type": "code",
   "execution_count": 29,
   "id": "092fd2f5",
   "metadata": {},
   "outputs": [
    {
     "name": "stdout",
     "output_type": "stream",
     "text": [
      "docs[0]\n",
      "page_content='第⼀回：Matplotlib 初相识\\n⼀、认识matplotlib\\nMatplotlib 是⼀个 Python 2D 绘图库，能够以多种硬拷⻉格式和跨平台的交互式环境⽣成出版物质量的图形，⽤来绘制各种静态，动态，\\n交互式的图表。\\nMatplotlib 可⽤于 Python 脚本， Python 和 IPython Shell 、 Jupyter notebook ， Web 应⽤程序服务器和各种图形⽤户界⾯⼯具包等。\\nMatplotlib 是 Python 数据可视化库中的泰⽃，它已经成为 python 中公认的数据可视化⼯具，我们所熟知的 pandas 和 seaborn 的绘图接⼝\\n其实也是基于 matplotlib 所作的⾼级封装。\\n为了对matplotlib 有更好的理解，让我们从⼀些最基本的概念开始认识它，再逐渐过渡到⼀些⾼级技巧中。\\n⼆、⼀个最简单的绘图例⼦\\nMatplotlib 的图像是画在 figure （如 windows ， jupyter 窗体）上的，每⼀个 figure ⼜包含了⼀个或多个 axes （⼀个可以指定坐标系的⼦区\\n域）。最简单的创建 figure 以及 axes 的⽅式是通过 pyplot.subplots命令，创建 axes 以后，可以使⽤ Axes.plot绘制最简易的折线图。\\nimport matplotlib.pyplot as plt\\nimport matplotlib as mpl\\nimport numpy as np\\nfig, ax = plt.subplots()  # 创建⼀个包含⼀个 axes 的 figure\\nax.plot([1, 2, 3, 4], [1, 4, 2, 3]);  # 绘制图像\\nTrick： 在jupyter notebook 中使⽤ matplotlib 时会发现，代码运⾏后⾃动打印出类似 <matplotlib.lines.Line2D at 0x23155916dc0>\\n这样⼀段话，这是因为 matplotlib 的绘图代码默认打印出最后⼀个对象。如果不想显示这句话，有以下三种⽅法，在本章节的代码示例\\n中你能找到这三种⽅法的使⽤。\\n\\x00. 在代码块最后加⼀个分号 ;\\n\\x00. 在代码块最后加⼀句 plt.show()\\n\\x00. 在绘图时将绘图对象显式赋值给⼀个变量，如将 plt.plot([1, 2, 3, 4]) 改成 line =plt.plot([1, 2, 3, 4])\\n和MATLAB 命令类似，你还可以通过⼀种更简单的⽅式绘制图像， matplotlib.pyplot⽅法能够直接在当前 axes 上绘制图像，如果⽤户\\n未指定axes ， matplotlib 会帮你⾃动创建⼀个。所以上⾯的例⼦也可以简化为以下这⼀⾏代码。\\nline =plt.plot([1, 2, 3, 4], [1, 4, 2, 3]) \\n三、Figure 的组成\\n现在我们来深⼊看⼀下 figure 的组成。通过⼀张 figure 解剖图，我们可以看到⼀个完整的 matplotlib 图像通常会包括以下四个层级，这些\\n层级也被称为容器（ container ），下⼀节会详细介绍。在 matplotlib 的世界中，我们将通过各种命令⽅法来操纵图像中的每⼀个部分，\\n从⽽达到数据可视化的最终效果，⼀副完整的图像实际上是各类⼦元素的集合。\\nFigure：顶层级，⽤来容纳所有绘图元素' metadata={'source': 'docs/matplotlib/第一回：Matplotlib初相识.pdf', 'page': 0}\n",
      "docs[1]\n",
      "page_content='第⼀回：Matplotlib 初相识\\n⼀、认识matplotlib\\nMatplotlib 是⼀个 Python 2D 绘图库，能够以多种硬拷⻉格式和跨平台的交互式环境⽣成出版物质量的图形，⽤来绘制各种静态，动态，\\n交互式的图表。\\nMatplotlib 可⽤于 Python 脚本， Python 和 IPython Shell 、 Jupyter notebook ， Web 应⽤程序服务器和各种图形⽤户界⾯⼯具包等。\\nMatplotlib 是 Python 数据可视化库中的泰⽃，它已经成为 python 中公认的数据可视化⼯具，我们所熟知的 pandas 和 seaborn 的绘图接⼝\\n其实也是基于 matplotlib 所作的⾼级封装。\\n为了对matplotlib 有更好的理解，让我们从⼀些最基本的概念开始认识它，再逐渐过渡到⼀些⾼级技巧中。\\n⼆、⼀个最简单的绘图例⼦\\nMatplotlib 的图像是画在 figure （如 windows ， jupyter 窗体）上的，每⼀个 figure ⼜包含了⼀个或多个 axes （⼀个可以指定坐标系的⼦区\\n域）。最简单的创建 figure 以及 axes 的⽅式是通过 pyplot.subplots命令，创建 axes 以后，可以使⽤ Axes.plot绘制最简易的折线图。\\nimport matplotlib.pyplot as plt\\nimport matplotlib as mpl\\nimport numpy as np\\nfig, ax = plt.subplots()  # 创建⼀个包含⼀个 axes 的 figure\\nax.plot([1, 2, 3, 4], [1, 4, 2, 3]);  # 绘制图像\\nTrick： 在jupyter notebook 中使⽤ matplotlib 时会发现，代码运⾏后⾃动打印出类似 <matplotlib.lines.Line2D at 0x23155916dc0>\\n这样⼀段话，这是因为 matplotlib 的绘图代码默认打印出最后⼀个对象。如果不想显示这句话，有以下三种⽅法，在本章节的代码示例\\n中你能找到这三种⽅法的使⽤。\\n\\x00. 在代码块最后加⼀个分号 ;\\n\\x00. 在代码块最后加⼀句 plt.show()\\n\\x00. 在绘图时将绘图对象显式赋值给⼀个变量，如将 plt.plot([1, 2, 3, 4]) 改成 line =plt.plot([1, 2, 3, 4])\\n和MATLAB 命令类似，你还可以通过⼀种更简单的⽅式绘制图像， matplotlib.pyplot⽅法能够直接在当前 axes 上绘制图像，如果⽤户\\n未指定axes ， matplotlib 会帮你⾃动创建⼀个。所以上⾯的例⼦也可以简化为以下这⼀⾏代码。\\nline =plt.plot([1, 2, 3, 4], [1, 4, 2, 3]) \\n三、Figure 的组成\\n现在我们来深⼊看⼀下 figure 的组成。通过⼀张 figure 解剖图，我们可以看到⼀个完整的 matplotlib 图像通常会包括以下四个层级，这些\\n层级也被称为容器（ container ），下⼀节会详细介绍。在 matplotlib 的世界中，我们将通过各种命令⽅法来操纵图像中的每⼀个部分，\\n从⽽达到数据可视化的最终效果，⼀副完整的图像实际上是各类⼦元素的集合。\\nFigure：顶层级，⽤来容纳所有绘图元素' metadata={'source': 'docs/matplotlib/第一回：Matplotlib初相识.pdf', 'page': 0}\n"
     ]
    }
   ],
   "source": [
    "print(\"docs[0]\")\n",
    "print(docs_chinese[0])\n",
    "\n",
    "print(\"docs[1]\")\n",
    "print(docs_chinese[1])"
   ]
  },
  {
   "cell_type": "markdown",
   "id": "4c1a626f",
   "metadata": {},
   "source": [
    "### 4.2 检索错误答案"
   ]
  },
  {
   "cell_type": "markdown",
   "id": "3a3a915d",
   "metadata": {},
   "source": [
    "我们可以看到一种新的失败的情况。\n",
    "\n",
    "下面的问题询问了关于第二讲的问题，但也包括了来自其他讲的结果。"
   ]
  },
  {
   "cell_type": "code",
   "execution_count": 31,
   "id": "e0a7e9c8",
   "metadata": {},
   "outputs": [
    {
     "name": "stdout",
     "output_type": "stream",
     "text": [
      "{'source': 'docs/matplotlib/第一回：Matplotlib初相识.pdf', 'page': 0}\n",
      "{'source': 'docs/matplotlib/第一回：Matplotlib初相识.pdf', 'page': 0}\n",
      "{'source': 'docs/matplotlib/第二回：艺术画笔见乾坤.pdf', 'page': 9}\n",
      "{'source': 'docs/matplotlib/第二回：艺术画笔见乾坤.pdf', 'page': 10}\n",
      "{'source': 'docs/matplotlib/第一回：Matplotlib初相识.pdf', 'page': 1}\n"
     ]
    }
   ],
   "source": [
    "question_chinese = \"他们在第二讲中对Figure说了些什么？\"  \n",
    "docs_chinese = vectordb_chinese.similarity_search(question_chinese,k=5)\n",
    "\n",
    "for doc_chinese in docs_chinese:\n",
    "    print(doc_chinese.metadata)\n",
    "    "
   ]
  },
  {
   "cell_type": "markdown",
   "id": "8e218a29",
   "metadata": {},
   "source": [
    "可见，虽然我们询问的问题是第二讲，但第一个出现的答案却是第一讲的内容。而第三个答案才是我们想要的正确回答。"
   ]
  },
  {
   "cell_type": "code",
   "execution_count": 77,
   "id": "71b6bbf3",
   "metadata": {},
   "outputs": [
    {
     "name": "stdout",
     "output_type": "stream",
     "text": [
      "三、对象容器  - Object container\n",
      "容器会包含⼀些 primitives，并且容器还有它⾃身的属性。\n",
      "⽐如Axes Artist，它是⼀种容器，它包含了很多 primitives，⽐如Line2D，Text；同时，它也有⾃身的属性，⽐如 xscal，⽤来控制\n",
      "X轴是linear还是log的。\n",
      "1. Figure容器\n",
      "matplotlib.figure.Figure是Artist最顶层的 container对象容器，它包含了图表中的所有元素。⼀张图表的背景就是在\n",
      "Figure.patch的⼀个矩形 Rectangle。\n",
      "当我们向图表添加 Figure.add_subplot()或者Figure.add_axes()元素时，这些都会被添加到 Figure.axes列表中。\n",
      "fig = plt.figure()\n",
      "ax1 = fig.add_subplot(211) # 作⼀幅2*1 的图，选择第 1 个⼦图\n",
      "ax2 = fig.add_axes([0.1, 0.1, 0.7, 0.3]) # 位置参数，四个数分别代表了\n",
      "(left,bottom,width,height)\n",
      "print(ax1) \n",
      "print(fig.axes) # fig.axes 中包含了 subplot 和 axes 两个实例 , 刚刚添加的\n",
      "AxesSubplot(0.125,0.536818;0.775x0.343182)\n",
      "[<AxesSubplot:>, <Axes:>]\n",
      "由于Figure维持了current axes，因此你不应该⼿动的从 Figure.axes列表中添加删除元素，⽽是要通过 Figure.add_subplot()、\n",
      "Figure.add_axes()来添加元素，通过 Figure.delaxes()来删除元素。但是你可以迭代或者访问 Figure.axes中的Axes，然后修改这个\n",
      "Axes的属性。\n",
      "⽐如下⾯的遍历 axes ⾥的内容，并且添加⽹格线：\n",
      "fig = plt.figure()\n",
      "ax1 = fig.add_subplot(211)\n",
      "for ax in fig.axes:\n",
      "    ax.grid(True)\n",
      "Figure也有它⾃⼰的 text、line 、 patch 、 image。你可以直接通过 add primitive语句直接添加。但是注意 Figure默认的坐标系是以像\n",
      "素为单位，你可能需要转换成 figure 坐标系： (0,0) 表示左下点， (1,1) 表示右上点。\n",
      "Figure容器的常⻅属性：\n",
      "Figure.patch属性：Figure 的背景矩形\n",
      "Figure.axes属性：⼀个 Axes 实例的列表（包括 Subplot)\n",
      "Figure.images属性：⼀个 FigureImages patch 列表\n",
      "Figure.lines属性：⼀个 Line2D 实例的列表（很少使⽤）\n",
      "Figure.legends属性：⼀个 Figure Legend 实例列表（不同于 Axes.legends)\n",
      "Figure.texts属性：⼀个 Figure Text 实例列表\n"
     ]
    }
   ],
   "source": [
    "print(docs_chinese[2].page_content)"
   ]
  },
  {
   "cell_type": "markdown",
   "id": "c3dbca56",
   "metadata": {},
   "source": [
    "在接下来的章节中，我们将探讨的方法能够有效地解答这两个问题！"
   ]
  },
  {
   "cell_type": "markdown",
   "id": "ac46f861",
   "metadata": {},
   "source": [
    "## 五、英文版"
   ]
  },
  {
   "cell_type": "markdown",
   "id": "387687e1",
   "metadata": {},
   "source": [
    "**1.1 读取文档**"
   ]
  },
  {
   "cell_type": "code",
   "execution_count": 32,
   "id": "8ab338b8",
   "metadata": {},
   "outputs": [],
   "source": [
    "from langchain.document_loaders import PyPDFLoader\n",
    "\n",
    "# 加载 PDF\n",
    "loaders = [\n",
    "    # 故意添加重复文档，使数据混乱\n",
    "    PyPDFLoader(\"docs/cs229_lectures/MachineLearning-Lecture01.pdf\"),\n",
    "    PyPDFLoader(\"docs/cs229_lectures/MachineLearning-Lecture01.pdf\"),\n",
    "    PyPDFLoader(\"docs/cs229_lectures/MachineLearning-Lecture02.pdf\"),\n",
    "    PyPDFLoader(\"docs/cs229_lectures/MachineLearning-Lecture03.pdf\")\n",
    "]\n",
    "docs = []\n",
    "for loader in loaders:\n",
    "    docs.extend(loader.load())"
   ]
  },
  {
   "cell_type": "markdown",
   "id": "4c306503",
   "metadata": {},
   "source": [
    "进行分割"
   ]
  },
  {
   "cell_type": "code",
   "execution_count": 33,
   "id": "43bf3805",
   "metadata": {},
   "outputs": [
    {
     "name": "stdout",
     "output_type": "stream",
     "text": [
      "209\n"
     ]
    }
   ],
   "source": [
    "# 分割文本\n",
    "from langchain.text_splitter import RecursiveCharacterTextSplitter\n",
    "text_splitter = RecursiveCharacterTextSplitter(\n",
    "    chunk_size = 1500,  # 每个文本块的大小。这意味着每次切分文本时，会尽量使每个块包含 1500 个字符。\n",
    "    chunk_overlap = 150  # 每个文本块之间的重叠部分。\n",
    ")\n",
    "\n",
    "splits = text_splitter.split_documents(docs)\n",
    "\n",
    "print(len(splits))"
   ]
  },
  {
   "cell_type": "markdown",
   "id": "1e4cdef7",
   "metadata": {},
   "source": [
    "**2.1 Embedding**"
   ]
  },
  {
   "cell_type": "code",
   "execution_count": 34,
   "id": "c21b7932",
   "metadata": {},
   "outputs": [
    {
     "name": "stdout",
     "output_type": "stream",
     "text": [
      "Sentence 1 VS setence 2\n",
      "0.9632026347895142\n",
      "Sentence 1 VS setence 3\n",
      "0.7711302839662464\n",
      "Sentence 2 VS sentence 3\n",
      "0.759699788340627\n"
     ]
    }
   ],
   "source": [
    "from langchain.embeddings.openai import OpenAIEmbeddings\n",
    "import numpy as np\n",
    "\n",
    "embedding = OpenAIEmbeddings()\n",
    "\n",
    "sentence1 = \"i like dogs\"\n",
    "sentence2 = \"i like canines\"\n",
    "sentence3 = \"the weather is ugly outside\"\n",
    "\n",
    "embedding1 = embedding.embed_query(sentence1)\n",
    "embedding2 = embedding.embed_query(sentence2)\n",
    "embedding3 = embedding.embed_query(sentence3)\n",
    "\n",
    "print(\"Sentence 1 VS setence 2\")\n",
    "print(np.dot(embedding1, embedding2))\n",
    "print(\"Sentence 1 VS setence 3\")\n",
    "print(np.dot(embedding1, embedding3))\n",
    "print(\"Sentence 2 VS sentence 3\")\n",
    "print(np.dot(embedding2, embedding3))"
   ]
  },
  {
   "cell_type": "markdown",
   "id": "f2f3a104",
   "metadata": {},
   "source": [
    "**3.1 初始化 Chroma**"
   ]
  },
  {
   "cell_type": "code",
   "execution_count": 35,
   "id": "7b3899e1",
   "metadata": {},
   "outputs": [
    {
     "name": "stderr",
     "output_type": "stream",
     "text": [
      "100%|██████████| 1/1 [00:02<00:00,  2.62s/it]\n"
     ]
    },
    {
     "name": "stdout",
     "output_type": "stream",
     "text": [
      "209\n"
     ]
    }
   ],
   "source": [
    "from langchain.vectorstores import Chroma\n",
    "\n",
    "persist_directory = 'docs/chroma/cs229_lectures/'\n",
    "\n",
    "vectordb = Chroma.from_documents(\n",
    "    documents=splits,\n",
    "    embedding=embedding,\n",
    "    persist_directory=persist_directory  # 允许我们将persist_directory目录保存到磁盘上\n",
    ")\n",
    "\n",
    "print(vectordb._collection.count())"
   ]
  },
  {
   "cell_type": "markdown",
   "id": "d1234238",
   "metadata": {},
   "source": [
    "**3.2 相似性检索**"
   ]
  },
  {
   "cell_type": "code",
   "execution_count": 36,
   "id": "236184f3",
   "metadata": {},
   "outputs": [
    {
     "name": "stdout",
     "output_type": "stream",
     "text": [
      "Length of docs:  3\n",
      "Page content:\n",
      "cs229-qa@cs.stanford.edu. This goes to an acc ount that's read by all the TAs and me. So \n",
      "rather than sending us email individually, if you send email to this account, it will \n",
      "actually let us get back to you maximally quickly with answers to your questions.  \n",
      "If you're asking questions about homework probl ems, please say in the subject line which \n",
      "assignment and which question the email refers to, since that will also help us to route \n",
      "your question to the appropriate TA or to me  appropriately and get the response back to \n",
      "you quickly.  \n",
      "Let's see. Skipping ahead — let's see — for homework, one midterm, one open and term \n",
      "project. Notice on the honor code. So one thi ng that I think will help you to succeed and \n",
      "do well in this class and even help you to enjoy this cla ss more is if you form a study \n",
      "group.  \n",
      "So start looking around where you' re sitting now or at the end of class today, mingle a \n",
      "little bit and get to know your classmates. I strongly encourage you to form study groups \n",
      "and sort of have a group of people to study with and have a group of your fellow students \n",
      "to talk over these concepts with. You can also  post on the class news group if you want to \n",
      "use that to try to form a study group.  \n",
      "But some of the problems sets in this cla ss are reasonably difficult.  People that have \n",
      "taken the class before may tell you they were very difficult. And just I bet it would be \n",
      "more fun for you, and you'd probably have a be tter learning experience if you form a\n"
     ]
    }
   ],
   "source": [
    "question = \"is there an email i can ask for help\"  # \"有我可以寻求帮助的电子邮件吗\"\n",
    "\n",
    "docs = vectordb.similarity_search(question,k=3)\n",
    "\n",
    "print(\"Length of docs: \", len(docs))\n",
    "print(\"Page content:\")\n",
    "print(docs[0].page_content)"
   ]
  },
  {
   "cell_type": "markdown",
   "id": "8478a2ff",
   "metadata": {},
   "source": [
    "持久化数据库"
   ]
  },
  {
   "cell_type": "code",
   "execution_count": 37,
   "id": "efe90556",
   "metadata": {},
   "outputs": [],
   "source": [
    "vectordb.persist()"
   ]
  },
  {
   "cell_type": "markdown",
   "id": "b103a534",
   "metadata": {},
   "source": [
    "**4.1 重复块**"
   ]
  },
  {
   "cell_type": "code",
   "execution_count": 38,
   "id": "776b15f8",
   "metadata": {},
   "outputs": [
    {
     "name": "stdout",
     "output_type": "stream",
     "text": [
      "docs[0]\n",
      "page_content='those homeworks will be done in either MATLA B or in Octave, which is sort of — I \\nknow some people call it a free ve rsion of MATLAB, which it sort  of is, sort of isn\\'t.  \\nSo I guess for those of you that haven\\'t s een MATLAB before, and I know most of you \\nhave, MATLAB is I guess part of the programming language that makes it very easy to write codes using matrices, to write code for numerical routines, to move data around, to \\nplot data. And it\\'s sort of an extremely easy to  learn tool to use for implementing a lot of \\nlearning algorithms.  \\nAnd in case some of you want to work on your  own home computer or something if you \\ndon\\'t have a MATLAB license, for the purposes of  this class, there\\'s also — [inaudible] \\nwrite that down [inaudible] MATLAB — there\\' s also a software package called Octave \\nthat you can download for free off the Internet. And it has somewhat fewer features than MATLAB, but it\\'s free, and for the purposes of  this class, it will work for just about \\neverything.  \\nSo actually I, well, so yeah, just a side comment for those of you that haven\\'t seen \\nMATLAB before I guess, once a colleague of mine at a different university, not at \\nStanford, actually teaches another machine l earning course. He\\'s taught it for many years. \\nSo one day, he was in his office, and an old student of his from, lik e, ten years ago came \\ninto his office and he said, \"Oh, professo r, professor, thank you so much for your' metadata={'source': 'docs/cs229_lectures/MachineLearning-Lecture01.pdf', 'page': 8}\n",
      "docs[1]\n",
      "page_content='those homeworks will be done in either MATLA B or in Octave, which is sort of — I \\nknow some people call it a free ve rsion of MATLAB, which it sort  of is, sort of isn\\'t.  \\nSo I guess for those of you that haven\\'t s een MATLAB before, and I know most of you \\nhave, MATLAB is I guess part of the programming language that makes it very easy to write codes using matrices, to write code for numerical routines, to move data around, to \\nplot data. And it\\'s sort of an extremely easy to  learn tool to use for implementing a lot of \\nlearning algorithms.  \\nAnd in case some of you want to work on your  own home computer or something if you \\ndon\\'t have a MATLAB license, for the purposes of  this class, there\\'s also — [inaudible] \\nwrite that down [inaudible] MATLAB — there\\' s also a software package called Octave \\nthat you can download for free off the Internet. And it has somewhat fewer features than MATLAB, but it\\'s free, and for the purposes of  this class, it will work for just about \\neverything.  \\nSo actually I, well, so yeah, just a side comment for those of you that haven\\'t seen \\nMATLAB before I guess, once a colleague of mine at a different university, not at \\nStanford, actually teaches another machine l earning course. He\\'s taught it for many years. \\nSo one day, he was in his office, and an old student of his from, lik e, ten years ago came \\ninto his office and he said, \"Oh, professo r, professor, thank you so much for your' metadata={'source': 'docs/cs229_lectures/MachineLearning-Lecture01.pdf', 'page': 8}\n"
     ]
    }
   ],
   "source": [
    "question = \"what did they say about matlab?\"  # \"他们对 matlab 有何评价？\"\n",
    "\n",
    "docs = vectordb.similarity_search(question,k=5)\n",
    "\n",
    "print(\"docs[0]\")\n",
    "print(docs[0])\n",
    "\n",
    "print(\"docs[1]\")\n",
    "print(docs[1])"
   ]
  },
  {
   "cell_type": "markdown",
   "id": "1f5fe285",
   "metadata": {},
   "source": [
    "**4.2 检索错误答案**"
   ]
  },
  {
   "cell_type": "code",
   "execution_count": 39,
   "id": "e48bdf27",
   "metadata": {},
   "outputs": [
    {
     "name": "stdout",
     "output_type": "stream",
     "text": [
      "{'source': 'docs/cs229_lectures/MachineLearning-Lecture03.pdf', 'page': 0}\n",
      "{'source': 'docs/cs229_lectures/MachineLearning-Lecture03.pdf', 'page': 14}\n",
      "{'source': 'docs/cs229_lectures/MachineLearning-Lecture02.pdf', 'page': 0}\n",
      "{'source': 'docs/cs229_lectures/MachineLearning-Lecture03.pdf', 'page': 6}\n",
      "{'source': 'docs/cs229_lectures/MachineLearning-Lecture01.pdf', 'page': 8}\n",
      "docs-4:\n",
      "into his office and he said, \"Oh, professo r, professor, thank you so much for your \n",
      "machine learning class. I learned so much from it. There's this stuff that I learned in your \n",
      "class, and I now use every day. And it's help ed me make lots of money, and here's a \n",
      "picture of my big house.\"  \n",
      "So my friend was very excited. He said, \"W ow. That's great. I'm glad to hear this \n",
      "machine learning stuff was actually useful. So what was it that you learned? Was it \n",
      "logistic regression? Was it the PCA? Was it the data ne tworks? What was it that you \n",
      "learned that was so helpful?\" And the student said, \"Oh, it was the MATLAB.\"  \n",
      "So for those of you that don't know MATLAB yet, I hope you do learn it. It's not hard, \n",
      "and we'll actually have a short MATLAB tutori al in one of the discussion sections for \n",
      "those of you that don't know it.  \n",
      "Okay. The very last piece of logistical th ing is the discussion s ections. So discussion \n",
      "sections will be taught by the TAs, and atte ndance at discussion sections is optional, \n",
      "although they'll also be recorded and televi sed. And we'll use the discussion sections \n",
      "mainly for two things. For the next two or th ree weeks, we'll use the discussion sections \n",
      "to go over the prerequisites to this class or if some of you haven't seen probability or \n",
      "statistics for a while or maybe algebra, we'll go over those in the discussion sections as a \n",
      "refresher for those of you that want one.\n"
     ]
    }
   ],
   "source": [
    "question = \"what did they say about regression in the third lecture?\"  # \"他们在第三讲中是怎么谈论回归的？\"\n",
    "\n",
    "docs = vectordb.similarity_search(question,k=5)\n",
    "\n",
    "for doc in docs:\n",
    "    print(doc.metadata)\n",
    "\n",
    "print(\"docs-4:\")\n",
    "print(docs[4].page_content)"
   ]
  }
 ],
 "metadata": {
  "kernelspec": {
   "display_name": "Python 3 (ipykernel)",
   "language": "python",
   "name": "python3"
  },
  "language_info": {
   "codemirror_mode": {
    "name": "ipython",
    "version": 3
   },
   "file_extension": ".py",
   "mimetype": "text/x-python",
   "name": "python",
   "nbconvert_exporter": "python",
   "pygments_lexer": "ipython3",
   "version": "3.8.10"
  }
 },
 "nbformat": 4,
 "nbformat_minor": 5
}
