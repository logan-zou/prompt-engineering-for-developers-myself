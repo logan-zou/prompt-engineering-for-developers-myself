{
 "cells": [
  {
   "cell_type": "markdown",
   "id": "cc2eb3ad-8c1c-406a-b7aa-a3f61b754ac5",
   "metadata": {},
   "source": [
    "# 第二章 文档加载\n",
    "\n"
   ]
  },
  {
   "cell_type": "markdown",
   "id": "2cd4a467",
   "metadata": {},
   "source": [
    "用户个人数据可以以多种形式呈现：PDF 文档、视频、网页等。基于 LangChain 提供给 LLM 访问用户个人数据的能力，首先要加载并处理用户的多样化、非结构化个人数据。在本章，我们首先介绍如何加载文档（包括文档、视频、网页等），这是访问个人数据的第一步。\n",
    "\n",
    "让我们先从 PDF 文档开始。"
   ]
  },
  {
   "cell_type": "markdown",
   "id": "63558db2-5279-4c1b-9bec-355ab04731e6",
   "metadata": {},
   "source": [
    "## 一、PDF 文档\n"
   ]
  },
  {
   "cell_type": "markdown",
   "id": "7fbf38ae",
   "metadata": {},
   "source": [
    "\n",
    "首先，我们将从以下链接加载一个[PDF文档](https://datawhalechina.github.io/fantastic-matplotlib/)。这是 DataWhale 提供的开源教程，名为《Fantastic Matplotlib》。值得注意的是，在英文版本中，吴恩达教授使用的是他[2009年的机器学习课程字幕文件](https://see.stanford.edu/materials/aimlcs229/transcripts/MachineLearning-Lecture01.pdf)作为示例。为了更适合中文读者，我们选择了上述中文教程作为示例。不过，在英文原版代码中，你仍可以找到吴恩达教授的机器学习课程文件作为参考。后续的代码实践也会遵循这一调整。"
   ]
  },
  {
   "cell_type": "markdown",
   "id": "0f66ac02",
   "metadata": {},
   "source": [
    "注意，要运行以下代码，你需要安装第三方库 pypdf："
   ]
  },
  {
   "cell_type": "code",
   "execution_count": null,
   "id": "db55fad3",
   "metadata": {},
   "outputs": [],
   "source": [
    "!pip install -q pypdf"
   ]
  },
  {
   "cell_type": "markdown",
   "id": "8dcb2102-0414-4130-952b-3b6fa33b61bb",
   "metadata": {},
   "source": [
    "### 1.1 加载PDF文档"
   ]
  },
  {
   "cell_type": "markdown",
   "id": "f93f4bf1",
   "metadata": {},
   "source": [
    "首先，我们将利用 `PyPDFLoader` 来对 PDF 文件进行读取和加载。"
   ]
  },
  {
   "cell_type": "code",
   "execution_count": 3,
   "id": "52d9891f-a8cc-47c4-8c09-81794647a720",
   "metadata": {},
   "outputs": [],
   "source": [
    "from langchain.document_loaders import PyPDFLoader\n",
    "\n",
    "# 创建一个 PyPDFLoader Class 实例，输入为待加载的pdf文档路径\n",
    "loader = PyPDFLoader(\"docs/matplotlib/第一回：Matplotlib初相识.pdf\")\n",
    "\n",
    "# 调用 PyPDFLoader Class 的函数 load对pdf文件进行加载\n",
    "pages = loader.load()"
   ]
  },
  {
   "cell_type": "markdown",
   "id": "68d40600-49ab-42a3-97d0-b9a2c4ab8139",
   "metadata": {},
   "source": [
    "### 1.2 探索加载的数据"
   ]
  },
  {
   "cell_type": "markdown",
   "id": "feca9f1e-1596-49f2-a6d9-6eeaeffbd90b",
   "metadata": {},
   "source": [
    "一旦文档被加载，它会被存储在名为`pages`的变量里。此外，`pages`的数据结构是一个`List`类型。为了确认其类型，我们可以借助Python内建的`type`函数来查看`pages`的确切数据类型。"
   ]
  },
  {
   "cell_type": "code",
   "execution_count": 4,
   "id": "9463b982-c71c-4241-b3a3-b040170eef2e",
   "metadata": {},
   "outputs": [
    {
     "name": "stdout",
     "output_type": "stream",
     "text": [
      "<class 'list'>\n"
     ]
    }
   ],
   "source": [
    "print(type(pages))"
   ]
  },
  {
   "cell_type": "markdown",
   "id": "5303ec3d",
   "metadata": {},
   "source": [
    "通过输出 `pages` 的长度，我们可以轻松地了解该PDF文件包含的总页数。"
   ]
  },
  {
   "cell_type": "code",
   "execution_count": 5,
   "id": "67a2b815-586f-43a5-96a4-cfe46001a766",
   "metadata": {},
   "outputs": [
    {
     "name": "stdout",
     "output_type": "stream",
     "text": [
      "3\n"
     ]
    }
   ],
   "source": [
    "print(len(pages))"
   ]
  },
  {
   "cell_type": "markdown",
   "id": "2cde6b9d-71c8-4851-a8f6-a3f0e76f6dab",
   "metadata": {},
   "source": [
    "在`page`变量中，每一个元素都代表一个文档，它们的数据类型是`langchain.schema.Document`。"
   ]
  },
  {
   "cell_type": "code",
   "execution_count": 6,
   "id": "921827ae-3a5b-4f29-b015-a5dde3be1410",
   "metadata": {},
   "outputs": [
    {
     "name": "stdout",
     "output_type": "stream",
     "text": [
      "<class 'langchain.schema.document.Document'>\n"
     ]
    }
   ],
   "source": [
    "page = pages[0]\n",
    "print(type(page))"
   ]
  },
  {
   "cell_type": "markdown",
   "id": "d59aef6f",
   "metadata": {},
   "source": [
    "`langchain.schema.Document`类型包含两个属性：\n",
    "\n",
    "1. `page_content`：包含该文档页面的内容。\n"
   ]
  },
  {
   "cell_type": "code",
   "execution_count": 7,
   "id": "85777ce2-42c7-4e11-b1ba-06fd6a0d8502",
   "metadata": {},
   "outputs": [
    {
     "name": "stdout",
     "output_type": "stream",
     "text": [
      "第⼀回：Matplotlib 初相识\n",
      "⼀、认识matplotlib\n",
      "Matplotlib 是⼀个 Python 2D 绘图库，能够以多种硬拷⻉格式和跨平台的交互式环境⽣成出版物质量的图形，⽤来绘制各种静态，动态，\n",
      "交互式的图表。\n",
      "Matplotlib 可⽤于 Python 脚本， Python 和 IPython Shell 、 Jupyter notebook ， Web 应⽤程序服务器和各种图形⽤户界⾯⼯具包等。\n",
      "Matplotlib 是 Python 数据可视化库中的泰⽃，它已经成为 python 中公认的数据可视化⼯具，我们所熟知的 pandas 和 seaborn 的绘图接⼝\n",
      "其实也是基于 matplotlib 所作的⾼级封装。\n",
      "为了对matplotlib 有更好的理解，让我们从⼀些最基本的概念开始认识它，再逐渐过渡到⼀些⾼级技巧中。\n",
      "⼆、⼀个最简单的绘图例⼦\n",
      "Matplotlib 的图像是画在 figure （如 windows ， jupyter 窗体）上的，每⼀个 figure ⼜包含了⼀个或多个 axes （⼀个可以指定坐标系的⼦区\n",
      "域）。最简单的创建 figure \n"
     ]
    }
   ],
   "source": [
    "print(page.page_content[0:500])"
   ]
  },
  {
   "cell_type": "markdown",
   "id": "760119bd",
   "metadata": {},
   "source": [
    "2. `meta_data`：为文档页面相关的描述性数据。"
   ]
  },
  {
   "cell_type": "code",
   "execution_count": 8,
   "id": "8a1f8acd-f8c7-46af-a29f-df172067deba",
   "metadata": {},
   "outputs": [
    {
     "name": "stdout",
     "output_type": "stream",
     "text": [
      "{'source': 'docs/matplotlib/第一回：Matplotlib初相识.pdf', 'page': 0}\n"
     ]
    }
   ],
   "source": [
    "print(page.metadata)"
   ]
  },
  {
   "cell_type": "markdown",
   "id": "1e9cead7-a967-4a8f-8d3d-0f94f2ff129e",
   "metadata": {},
   "source": [
    "## 二、YouTube音频"
   ]
  },
  {
   "cell_type": "markdown",
   "id": "8f1ced71",
   "metadata": {},
   "source": [
    "\n",
    "在第一部分的内容，我们已经探讨了如何加载 PDF 文档。在这部分的内容中，对于给定的 YouTube 视频链接，我们会详细讨论：\n",
    "- 利用`langchain`加载工具，为指定的 YouTube 视频链接下载对应的音频至本地\n",
    "- 通过`OpenAIWhisperPaser`工具，将这些音频文件转化为可读的文本内容"
   ]
  },
  {
   "cell_type": "markdown",
   "id": "b4720268-ddab-4c18-9072-10aab8f0ac7c",
   "metadata": {},
   "source": [
    "注意，要运行以下代码，你需要安装如下两个第三方库："
   ]
  },
  {
   "cell_type": "code",
   "execution_count": 11,
   "id": "37dbeb50-d6c5-4db0-88da-1ef9d3e47417",
   "metadata": {},
   "outputs": [],
   "source": [
    "!pip -q install yt_dlp\n",
    "!pip -q install pydub"
   ]
  },
  {
   "cell_type": "markdown",
   "id": "a243b258-eae3-46b0-803f-cd897b31cf78",
   "metadata": {},
   "source": [
    "### 2.1 加载Youtube音频文档"
   ]
  },
  {
   "cell_type": "markdown",
   "id": "47dd33db",
   "metadata": {},
   "source": [
    "首先，我们将构建一个 `GenericLoader` 实例来对 Youtube 视频的下载到本地并加载。"
   ]
  },
  {
   "cell_type": "code",
   "execution_count": 10,
   "id": "5ca7b99a-ba4d-4989-aed6-be76acb405c0",
   "metadata": {},
   "outputs": [
    {
     "name": "stdout",
     "output_type": "stream",
     "text": [
      "[youtube] Extracting URL: https://www.youtube.com/watch?v=_PHdzsQaDgw\n",
      "[youtube] _PHdzsQaDgw: Downloading webpage\n",
      "[youtube] _PHdzsQaDgw: Downloading ios player API JSON\n",
      "[youtube] _PHdzsQaDgw: Downloading android player API JSON\n",
      "[youtube] _PHdzsQaDgw: Downloading m3u8 information\n"
     ]
    },
    {
     "name": "stderr",
     "output_type": "stream",
     "text": [
      "WARNING: [youtube] Failed to download m3u8 information: HTTP Error 429: Too Many Requests\n"
     ]
    },
    {
     "name": "stdout",
     "output_type": "stream",
     "text": [
      "[info] _PHdzsQaDgw: Downloading 1 format(s): 140\n",
      "[download] docs/youtube-zh//【2023年7月最新】ChatGPT注册教程，国内详细注册流程，支持中文使用，chatgpt 中国怎么用？.m4a has already been downloaded\n",
      "[download] 100% of    7.72MiB\n",
      "[ExtractAudio] Not converting audio docs/youtube-zh//【2023年7月最新】ChatGPT注册教程，国内详细注册流程，支持中文使用，chatgpt 中国怎么用？.m4a; file is already in target format m4a\n",
      "Transcribing part 1!\n"
     ]
    }
   ],
   "source": [
    "from langchain.document_loaders.generic import GenericLoader\n",
    "from langchain.document_loaders.parsers import OpenAIWhisperParser\n",
    "from langchain.document_loaders.blob_loaders.youtube_audio import YoutubeAudioLoader\n",
    "\n",
    "url=\"https://www.youtube.com/watch?v=_PHdzsQaDgw\"\n",
    "save_dir=\"docs/youtube-zh/\"\n",
    "\n",
    "# 创建一个 GenericLoader Class 实例\n",
    "loader = GenericLoader(\n",
    "    #将链接url中的Youtube视频的音频下载下来,存在本地路径save_dir\n",
    "    YoutubeAudioLoader([url],save_dir), \n",
    "    \n",
    "    #使用OpenAIWhisperPaser解析器将音频转化为文本\n",
    "    OpenAIWhisperParser()\n",
    ")\n",
    "\n",
    "# 调用 GenericLoader Class 的函数 load对视频的音频文件进行加载\n",
    "pages = loader.load()"
   ]
  },
  {
   "cell_type": "markdown",
   "id": "ffb4db5d-39b5-4cd7-82d9-824ed71fc116",
   "metadata": {
    "tags": []
   },
   "source": [
    "### 2.2 探索加载的数据"
   ]
  },
  {
   "cell_type": "markdown",
   "id": "0fd91c34-ac19-4a09-8ca0-99262011d9ba",
   "metadata": {},
   "source": [
    "Youtube 音频文件加载得到的变量同上文类似，此处不再一一解释，通过类似代码可以展示加载数据："
   ]
  },
  {
   "cell_type": "code",
   "execution_count": 11,
   "id": "ddb89cee-32bd-4c5f-91f1-c46d1f0300da",
   "metadata": {},
   "outputs": [
    {
     "name": "stdout",
     "output_type": "stream",
     "text": [
      "Type of pages:  <class 'list'>\n",
      "Length of pages:  1\n",
      "Type of page:  <class 'langchain.schema.document.Document'>\n",
      "Page_content:  大家好,欢迎来到我的频道 今天我们来介绍如何注册ChetGBT账号 之前我有介绍过一期如何注册ChetGBT账号 但是还是会有一些朋友在注册过程当中 遇到了一些问题 今天我们再来详细介绍最新的注册方法 我们先打开这个网站 这个网站的网址我会放到视频下方的评论区 大家可以直接点击打开 这个网站是需要翻墙才能打开 建议使用全局模式翻墙打开 可以选择台湾,新加坡,日本,美国节点 不要选择香港节点 我这里使用的是台湾节点 这个翻墙软件如果大家需要的话 我也会共享在视频的下方 另外浏览器需要开启无痕模式打开 这个就是打开新的无痕模式窗口 我们可以按快捷键,Ctrl键加Shift键加N 可以打开新的无痕模式窗口 然后用无痕模式窗口来打开这个网站 然后点击这里 然后会出现这个登录注册界面 如果没有显示这个界面 显示的是拒绝访问 那么就表示你使用的节点可能有问题 我们需要切换其他的节点 我们可以这样切换其他的节点 能够正常打开这个页面 表示节点是没问题的 我们可以点击注册 这里需要填一个邮箱 然后点击继续 然后需要输入密码 再点击继续 然后会出现这个提示 我们需要去收一封邮件 刷新一下 邮件已经收到了\n",
      "Meta Data:  {'source': 'docs/youtube-zh/【2023年7月最新】ChatGPT注册教程，国内详细注册流程，支持中文使用，chatgpt 中国怎么用？.m4a', 'chunk': 0}\n"
     ]
    }
   ],
   "source": [
    "print(\"Type of pages: \", type(pages))\n",
    "print(\"Length of pages: \", len(pages))\n",
    "\n",
    "page = pages[0]\n",
    "print(\"Type of page: \", type(page))\n",
    "print(\"Page_content: \", page.page_content[:500])\n",
    "print(\"Meta Data: \", page.metadata)"
   ]
  },
  {
   "cell_type": "markdown",
   "id": "5b7ddc7d-2d40-4811-8cb3-5e73344ebe24",
   "metadata": {},
   "source": [
    "## 三、网页文档\n"
   ]
  },
  {
   "cell_type": "markdown",
   "id": "d17c41b9",
   "metadata": {},
   "source": [
    "\n",
    "在第二部分，我们对于给定的 YouTube 视频链接 (URL)，使用 LangChain 加载器将视频的音频下载到本地，然后使用 OpenAIWhisperPaser 解析器将音频转化为文本。\n",
    "\n",
    "本部分，我们将研究如何处理网页链接（URLs）。为此，我们会以 GitHub 上的一个markdown格式文档为例，学习如何对其进行加载。"
   ]
  },
  {
   "cell_type": "markdown",
   "id": "b28abf4d-4907-47f6-b54d-6d322a5794e6",
   "metadata": {},
   "source": [
    "### 3.1 加载网页文档"
   ]
  },
  {
   "cell_type": "markdown",
   "id": "8e79d182",
   "metadata": {},
   "source": [
    "首先，我们将构建一个`WebBaseLoader`实例来对网页进行加载。"
   ]
  },
  {
   "cell_type": "code",
   "execution_count": 13,
   "id": "1a68375f-44ae-4905-bf9c-1f01ec800481",
   "metadata": {},
   "outputs": [],
   "source": [
    "from langchain.document_loaders import WebBaseLoader\n",
    "\n",
    "\n",
    "# 创建一个 WebBaseLoader Class 实例\n",
    "url = \"https://github.com/datawhalechina/d2l-ai-solutions-manual/blob/master/docs/README.md\"\n",
    "header = {'User-Agent': 'python-requests/2.27.1', \n",
    "          'Accept-Encoding': 'gzip, deflate, br', \n",
    "          'Accept': '*/*',\n",
    "          'Connection': 'keep-alive'}\n",
    "loader = WebBaseLoader(web_path=url,header_template=header)\n",
    "\n",
    "# 调用 WebBaseLoader Class 的函数 load对文件进行加载\n",
    "pages = loader.load()"
   ]
  },
  {
   "cell_type": "markdown",
   "id": "fc24f44a-01f5-49a3-9529-2f05c1053b2c",
   "metadata": {
    "tags": []
   },
   "source": [
    "### 3.2 探索加载的数据"
   ]
  },
  {
   "cell_type": "markdown",
   "id": "f2f108b9-713b-4b98-b44d-4dfc3dcbcde2",
   "metadata": {},
   "source": [
    "同理我们通过上文代码可以展示加载数据："
   ]
  },
  {
   "cell_type": "code",
   "execution_count": 14,
   "id": "8c8670fa-203b-4c35-9266-f976f50f0f5d",
   "metadata": {},
   "outputs": [
    {
     "name": "stdout",
     "output_type": "stream",
     "text": [
      "Type of pages:  <class 'list'>\n",
      "Length of pages:  1\n",
      "Type of page:  <class 'langchain.schema.document.Document'>\n",
      "Page_content:  {\"payload\":{\"allShortcutsEnabled\":false,\"fileTree\":{\"docs\":{\"items\":[{\"name\":\"ch02\",\"path\":\"docs/ch02\",\"contentType\":\"directory\"},{\"name\":\"ch03\",\"path\":\"docs/ch03\",\"contentType\":\"directory\"},{\"name\":\"ch05\",\"path\":\"docs/ch05\",\"contentType\":\"directory\"},{\"name\":\"ch06\",\"path\":\"docs/ch06\",\"contentType\":\"directory\"},{\"name\":\"ch08\",\"path\":\"docs/ch08\",\"contentType\":\"directory\"},{\"name\":\"ch09\",\"path\":\"docs/ch09\",\"contentType\":\"directory\"},{\"name\":\"ch10\",\"path\":\"docs/ch10\",\"contentType\":\"directory\"},{\"na\n",
      "Meta Data:  {'source': 'https://github.com/datawhalechina/d2l-ai-solutions-manual/blob/master/docs/README.md'}\n"
     ]
    }
   ],
   "source": [
    "print(\"Type of pages: \", type(pages))\n",
    "print(\"Length of pages: \", len(pages))\n",
    "\n",
    "page = pages[0]\n",
    "print(\"Type of page: \", type(page))\n",
    "print(\"Page_content: \", page.page_content[:500])\n",
    "print(\"Meta Data: \", page.metadata)"
   ]
  },
  {
   "cell_type": "markdown",
   "id": "52025103-205e-4137-a116-89f37fcfece1",
   "metadata": {},
   "source": [
    "可以看到上面的文档内容包含许多冗余的信息。通常来讲，我们需要进行对这种数据进行进一步处理(Post Processing)。"
   ]
  },
  {
   "cell_type": "code",
   "execution_count": 15,
   "id": "a7c5281f-aeed-4ee7-849b-bbf9fd3e35c7",
   "metadata": {},
   "outputs": [
    {
     "name": "stdout",
     "output_type": "stream",
     "text": [
      "动手学深度学习习题解答 {docsify-ignore-all}\n",
      "  李沐老师的《动手学深度学习》是入门深度学习的经典书籍，这本书基于深度学习框架来介绍深度学习，书中代码可以做到“所学即所用”。对于一般的初学者来说想要把书中课后习题部分独立解答还是比较困难。本项目对《动手学深度学习》习题部分进行解答，作为该书的习题手册，帮助初学者快速理解书中内容。\n",
      "使用说明\n",
      "  动手学深度学习习题解答，主要完成了该书的所有习题，并提供代码和运行之后的截图，里面的内容是以深度学习的内容为前置知识，该习题解答的最佳使用方法是以李沐老师的《动手学深度学习》为主线，并尝试完成课后习题，如果遇到不会的，再来查阅习题解答。\n",
      "  如果觉得解答不详细，可以点击这里提交你希望补充推导或者习题编号，我们看到后会尽快进行补充。\n",
      "选用的《动手学深度学习》版本\n",
      "\n",
      "\n",
      "书名：动手学深度学习（PyTorch版）\n",
      "著者：阿斯顿·张、[美]扎卡里 C. 立顿、李沐、[德]亚历山大·J.斯莫拉\n",
      "译者：何孝霆、瑞潮儿·胡\n",
      "出版社：人民邮电出版社\n",
      "版次：2023年2月第1版\n",
      "\n",
      "项目结构\n",
      "codes----------------------------------------------习题代码\n",
      "docs-----------------------------------------------习题解答\n",
      "notebook-------------------------------------------习题解答JupyterNotebook格式\n",
      "requirements.txt-----------------------------------运行环境依赖包\n",
      "\n",
      "关注我们\n",
      "\n",
      "扫描下方二维码关注公众号：Datawhale\n",
      "\n",
      "\n",
      "  Datawhale，一个专注于AI领域的学习圈子。初衷是for the learner，和学习者一起成长。目前加入学习社群的人数已经数千人，组织了机器学习，深度学习，数据分析，数据挖掘，爬虫，编程，统计学，Mysql，数据竞赛等多个领域的内容学习，微信搜索公众号Datawhale可以加入我们。\n",
      "LICENSE\n",
      "本作品采用知识共享署名-非商业性使用-相同方式共享 4.0 国际许可协议进行许可。\n",
      "\n"
     ]
    }
   ],
   "source": [
    "import json\n",
    "convert_to_json = json.loads(page.page_content)\n",
    "extracted_markdow = convert_to_json['payload']['blob']['richText']\n",
    "print(extracted_markdow)"
   ]
  },
  {
   "cell_type": "markdown",
   "id": "d35e99b4-dd67-4940-bbeb-b2a59bf8cd3d",
   "metadata": {},
   "source": [
    "## 四、Notion文档\n",
    "\n",
    "- 点击[Notion示例文档](https://yolospace.notion.site/Blendle-s-Employee-Handbook-e31bff7da17346ee99f531087d8b133f)(https://yolospace.notion.site/Blendle-s-Employee-Handbook-e31bff7da17346ee99f531087d8b133f)右上方复制按钮(Duplicate)，复制文档到你的Notion空间\n",
    "- 点击右上方`⋯` 按钮，选择导出为Mardown&CSV。导出的文件将为zip文件夹\n",
    "- 解压并保存mardown文档到本地路径`docs/Notion_DB/`"
   ]
  },
  {
   "cell_type": "markdown",
   "id": "f8cf2778-288c-4964-81e7-0ed881e31652",
   "metadata": {},
   "source": [
    "### 4.1 加载Notion Markdown文档"
   ]
  },
  {
   "cell_type": "markdown",
   "id": "f509f0e5",
   "metadata": {},
   "source": [
    "首先，我们将使用`NotionDirectoryLoader`来对Notion Markdown文档进行加载。"
   ]
  },
  {
   "cell_type": "code",
   "execution_count": 17,
   "id": "081f5ee4-6b5d-45bf-a7e6-079abc560729",
   "metadata": {},
   "outputs": [],
   "source": [
    "from langchain.document_loaders import NotionDirectoryLoader\n",
    "loader = NotionDirectoryLoader(\"docs/Notion_DB\")\n",
    "pages = loader.load()"
   ]
  },
  {
   "cell_type": "markdown",
   "id": "88d5d094-a490-4c64-ab93-5c5cec0853aa",
   "metadata": {
    "tags": []
   },
   "source": [
    "### 4.2 探索加载的数据"
   ]
  },
  {
   "cell_type": "markdown",
   "id": "a3ffe318-d22a-4687-b613-f679ad9ad616",
   "metadata": {},
   "source": [
    "同理，使用上文代码："
   ]
  },
  {
   "cell_type": "code",
   "execution_count": 18,
   "id": "106323dd-0d24-40d4-8302-ed2a35d13347",
   "metadata": {},
   "outputs": [
    {
     "name": "stdout",
     "output_type": "stream",
     "text": [
      "Type of pages:  <class 'list'>\n",
      "Length of pages:  51\n",
      "Type of page:  <class 'langchain.schema.document.Document'>\n",
      "Page_content:  # #letstalkaboutstress\n",
      "\n",
      "Let’s talk about stress. Too much stress. \n",
      "\n",
      "We know this can be a topic.\n",
      "\n",
      "So let’s get this conversation going. \n",
      "\n",
      "[Intro: two things you should know](#letstalkaboutstress%2064040a0733074994976118bbe0acc7fb/Intro%20two%20things%20you%20should%20know%20b5fd0c5393a9498b93396e79fe71e8bf.md)\n",
      "\n",
      "[What is stress](#letstalkaboutstress%2064040a0733074994976118bbe0acc7fb/What%20is%20stress%20b198b685ed6a474ab14f6fafff7004b6.md)\n",
      "\n",
      "[When is there too much stress?](#letstalkaboutstress%2\n",
      "Meta Data:  {'source': 'docs/Notion_DB/#letstalkaboutstress 64040a0733074994976118bbe0acc7fb.md'}\n"
     ]
    }
   ],
   "source": [
    "print(\"Type of pages: \", type(pages))\n",
    "print(\"Length of pages: \", len(pages))\n",
    "\n",
    "page = pages[0]\n",
    "print(\"Type of page: \", type(page))\n",
    "print(\"Page_content: \", page.page_content[:500])\n",
    "print(\"Meta Data: \", page.metadata)"
   ]
  },
  {
   "cell_type": "markdown",
   "id": "6e459d2e",
   "metadata": {},
   "source": [
    "## 五、英文版"
   ]
  },
  {
   "cell_type": "markdown",
   "id": "cfb32d32",
   "metadata": {},
   "source": [
    "**1.1 加载 PDF 文档**"
   ]
  },
  {
   "cell_type": "code",
   "execution_count": 19,
   "id": "df561ea2",
   "metadata": {},
   "outputs": [],
   "source": [
    "from langchain.document_loaders import PyPDFLoader\n",
    "\n",
    "# 创建一个 PyPDFLoader Class 实例，输入为待加载的pdf文档路径\n",
    "loader = PyPDFLoader(\"docs/cs229_lectures/MachineLearning-Lecture01.pdf\")\n",
    "\n",
    "# 调用 PyPDFLoader Class 的函数 load对pdf文件进行加载\n",
    "pages = loader.load()"
   ]
  },
  {
   "cell_type": "markdown",
   "id": "84c84cdc",
   "metadata": {},
   "source": [
    "**1.2 探索加载的数据**"
   ]
  },
  {
   "cell_type": "code",
   "execution_count": 20,
   "id": "ff4c775c",
   "metadata": {},
   "outputs": [
    {
     "name": "stdout",
     "output_type": "stream",
     "text": [
      "Type of pages:  <class 'list'>\n",
      "Length of pages:  22\n",
      "Type of page:  <class 'langchain.schema.document.Document'>\n",
      "Page_content:  MachineLearning-Lecture01  \n",
      "Instructor (Andrew Ng):  Okay. Good morning. Welcome to CS229, the machine \n",
      "learning class. So what I wanna do today is ju st spend a little time going over the logistics \n",
      "of the class, and then we'll start to  talk a bit about machine learning.  \n",
      "By way of introduction, my name's  Andrew Ng and I'll be instru ctor for this class. And so \n",
      "I personally work in machine learning, and I' ve worked on it for about 15 years now, and \n",
      "I actually think that machine learning i\n",
      "Meta Data:  {'source': 'docs/cs229_lectures/MachineLearning-Lecture01.pdf', 'page': 0}\n"
     ]
    }
   ],
   "source": [
    "print(\"Type of pages: \", type(pages))\n",
    "print(\"Length of pages: \", len(pages))\n",
    "\n",
    "page = pages[0]\n",
    "print(\"Type of page: \", type(page))\n",
    "print(\"Page_content: \", page.page_content[:500])\n",
    "print(\"Meta Data: \", page.metadata)"
   ]
  },
  {
   "cell_type": "markdown",
   "id": "adab9b3b",
   "metadata": {},
   "source": [
    "**2.1 加载 Youtube 音频**"
   ]
  },
  {
   "cell_type": "code",
   "execution_count": null,
   "id": "1bf590f8",
   "metadata": {},
   "outputs": [],
   "source": [
    "# 注：由于该视频较长，容易出现网络问题，此处没有运行，读者可自行运行探索\n",
    "\n",
    "from langchain.document_loaders.generic import GenericLoader\n",
    "from langchain.document_loaders.parsers import OpenAIWhisperParser\n",
    "from langchain.document_loaders.blob_loaders.youtube_audio import YoutubeAudioLoader\n",
    "\n",
    "url=\"https://www.youtube.com/watch?v=jGwO_UgTS7I\"\n",
    "save_dir=\"docs/youtube/\"\n",
    "\n",
    "# 创建一个 GenericLoader Class 实例\n",
    "loader = GenericLoader(\n",
    "    #将链接url中的Youtube视频的音频下载下来,存在本地路径save_dir\n",
    "    YoutubeAudioLoader([url],save_dir), \n",
    "    \n",
    "    #使用OpenAIWhisperPaser解析器将音频转化为文本\n",
    "    OpenAIWhisperParser()\n",
    ")\n",
    "\n",
    "# 调用 GenericLoader Class 的函数 load对视频的音频文件进行加载\n",
    "docs = loader.load()"
   ]
  },
  {
   "cell_type": "markdown",
   "id": "8223084f",
   "metadata": {},
   "source": [
    "**2.2 探索加载的数据**"
   ]
  },
  {
   "cell_type": "code",
   "execution_count": null,
   "id": "62e9c20d",
   "metadata": {},
   "outputs": [],
   "source": [
    "print(\"Type of pages: \", type(pages))\n",
    "print(\"Length of pages: \", len(pages))\n",
    "\n",
    "page = pages[0]\n",
    "print(\"Type of page: \", type(page))\n",
    "print(\"Page_content: \", page.page_content[:500])\n",
    "print(\"Meta Data: \", page.metadata)"
   ]
  },
  {
   "cell_type": "markdown",
   "id": "bd2ae268",
   "metadata": {},
   "source": [
    "**3.1 加载网页文档**"
   ]
  },
  {
   "cell_type": "code",
   "execution_count": 23,
   "id": "07830b06",
   "metadata": {},
   "outputs": [],
   "source": [
    "from langchain.document_loaders import WebBaseLoader\n",
    "\n",
    "\n",
    "# 创建一个 WebBaseLoader Class 实例\n",
    "url = \"https://github.com/basecamp/handbook/blob/master/37signals-is-you.md\"\n",
    "header = {'User-Agent': 'python-requests/2.27.1', \n",
    "          'Accept-Encoding': 'gzip, deflate, br', \n",
    "          'Accept': '*/*',\n",
    "          'Connection': 'keep-alive'}\n",
    "loader = WebBaseLoader(web_path=url,header_template=header)\n",
    "\n",
    "# 调用 WebBaseLoader Class 的函数 load对文件进行加载\n",
    "pages = loader.load()"
   ]
  },
  {
   "cell_type": "markdown",
   "id": "0f14a957",
   "metadata": {},
   "source": [
    "**3.2 探索加载的数据**"
   ]
  },
  {
   "cell_type": "code",
   "execution_count": 24,
   "id": "df9c3d12",
   "metadata": {},
   "outputs": [
    {
     "name": "stdout",
     "output_type": "stream",
     "text": [
      "Type of pages:  <class 'list'>\n",
      "Length of pages:  1\n",
      "Type of page:  <class 'langchain.schema.document.Document'>\n",
      "Page_content:  {\"payload\":{\"allShortcutsEnabled\":false,\"fileTree\":{\"\":{\"items\":[{\"name\":\"37signals-is-you.md\",\"path\":\"37signals-is-you.md\",\"contentType\":\"file\"},{\"name\":\"LICENSE.md\",\"path\":\"LICENSE.md\",\"contentType\":\"file\"},{\"name\":\"README.md\",\"path\":\"README.md\",\"contentType\":\"file\"},{\"name\":\"benefits-and-perks.md\",\"path\":\"benefits-and-perks.md\",\"contentType\":\"file\"},{\"name\":\"code-of-conduct.md\",\"path\":\"code-of-conduct.md\",\"contentType\":\"file\"},{\"name\":\"faq.md\",\"path\":\"faq.md\",\"contentType\":\"file\"},{\"name\":\"ge\n",
      "Meta Data:  {'source': 'https://github.com/basecamp/handbook/blob/master/37signals-is-you.md'}\n"
     ]
    }
   ],
   "source": [
    "print(\"Type of pages: \", type(pages))\n",
    "print(\"Length of pages: \", len(pages))\n",
    "\n",
    "page = pages[0]\n",
    "print(\"Type of page: \", type(page))\n",
    "print(\"Page_content: \", page.page_content[:500])\n",
    "print(\"Meta Data: \", page.metadata)"
   ]
  },
  {
   "cell_type": "markdown",
   "id": "f5b85fbc",
   "metadata": {},
   "source": [
    "进行进一步处理"
   ]
  },
  {
   "cell_type": "code",
   "execution_count": 25,
   "id": "7ea21194",
   "metadata": {},
   "outputs": [
    {
     "name": "stdout",
     "output_type": "stream",
     "text": [
      "37signals Is You\n",
      "Everyone working at 37signals represents 37signals. When a customer gets a response from Merissa on support, Merissa is 37signals. When a customer reads a tweet by Eron that our systems are down, Eron is 37signals. In those situations, all the other stuff we do to cultivate our best image is secondary. What’s right in front of someone in a time of need is what they’ll remember.\n",
      "That’s what we mean when we say marketing is everyone’s responsibility, and that it pays to spend the time to recognize that. This means avoiding the bullshit of outage language and bending our policies, not just lending your ears. It means taking the time to get the writing right and consider how you’d feel if you were on the other side of the interaction.\n",
      "The vast majority of our customers come from word of mouth and much of that word comes from people in our audience. This is an audience we’ve been educating and entertaining for 20 years and counting, and your voice is part of us now, whether you like it or not! Tell us and our audience what you have to say!\n",
      "This goes for tools and techniques as much as it goes for prose. 37signals not only tries to out-teach the competition, but also out-share and out-collaborate. We’re prolific open source contributors through Ruby on Rails, Trix, Turbolinks, Stimulus, and many other projects. Extracting the common infrastructure that others could use as well is satisfying, important work, and we should continue to do that.\n",
      "It’s also worth mentioning that joining 37signals can be all-consuming. We’ve seen it happen. You dig 37signals, so you feel pressure to contribute, maybe overwhelmingly so. The people who work here are some of the best and brightest in our industry, so the self-imposed burden to be exceptional is real. But here’s the thing: stop it. Settle in. We’re glad you love this job because we all do too, but at the end of the day it’s a job. Do your best work, collaborate with your team, write, read, learn, and then turn off your computer and play with your dog. We’ll all be better for it.\n",
      "\n"
     ]
    }
   ],
   "source": [
    "import json\n",
    "convert_to_json = json.loads(page.page_content)\n",
    "extracted_markdow = convert_to_json['payload']['blob']['richText']\n",
    "print(extracted_markdow)"
   ]
  },
  {
   "cell_type": "markdown",
   "id": "67734ecf",
   "metadata": {},
   "source": [
    "**4.1 加载 Notion 文档**"
   ]
  },
  {
   "cell_type": "code",
   "execution_count": 26,
   "id": "b4315eb5",
   "metadata": {},
   "outputs": [],
   "source": [
    "from langchain.document_loaders import NotionDirectoryLoader\n",
    "loader = NotionDirectoryLoader(\"docs/Notion_DB\")\n",
    "pages = loader.load()"
   ]
  },
  {
   "cell_type": "markdown",
   "id": "6f5b8a3a",
   "metadata": {},
   "source": [
    "**4.2 探索加载的数据**"
   ]
  },
  {
   "cell_type": "code",
   "execution_count": 27,
   "id": "65f08b80",
   "metadata": {},
   "outputs": [
    {
     "name": "stdout",
     "output_type": "stream",
     "text": [
      "Type of pages:  <class 'list'>\n",
      "Length of pages:  51\n",
      "Type of page:  <class 'langchain.schema.document.Document'>\n",
      "Page_content:  # #letstalkaboutstress\n",
      "\n",
      "Let’s talk about stress. Too much stress. \n",
      "\n",
      "We know this can be a topic.\n",
      "\n",
      "So let’s get this conversation going. \n",
      "\n",
      "[Intro: two things you should know](#letstalkaboutstress%2064040a0733074994976118bbe0acc7fb/Intro%20two%20things%20you%20should%20know%20b5fd0c5393a9498b93396e79fe71e8bf.md)\n",
      "\n",
      "[What is stress](#letstalkaboutstress%2064040a0733074994976118bbe0acc7fb/What%20is%20stress%20b198b685ed6a474ab14f6fafff7004b6.md)\n",
      "\n",
      "[When is there too much stress?](#letstalkaboutstress%2\n",
      "Meta Data:  {'source': 'docs/Notion_DB/#letstalkaboutstress 64040a0733074994976118bbe0acc7fb.md'}\n"
     ]
    }
   ],
   "source": [
    "print(\"Type of pages: \", type(pages))\n",
    "print(\"Length of pages: \", len(pages))\n",
    "\n",
    "page = pages[0]\n",
    "print(\"Type of page: \", type(page))\n",
    "print(\"Page_content: \", page.page_content[:500])\n",
    "print(\"Meta Data: \", page.metadata)"
   ]
  }
 ],
 "metadata": {
  "kernelspec": {
   "display_name": "Python 3 (ipykernel)",
   "language": "python",
   "name": "python3"
  },
  "language_info": {
   "codemirror_mode": {
    "name": "ipython",
    "version": 3
   },
   "file_extension": ".py",
   "mimetype": "text/x-python",
   "name": "python",
   "nbconvert_exporter": "python",
   "pygments_lexer": "ipython3",
   "version": "3.8.10"
  }
 },
 "nbformat": 4,
 "nbformat_minor": 5
}
