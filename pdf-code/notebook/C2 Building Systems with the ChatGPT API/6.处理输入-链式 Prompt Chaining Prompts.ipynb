{
 "cells": [
  {
   "cell_type": "markdown",
   "metadata": {},
   "source": [
    "# 第六章 处理输入-链式 "
   ]
  },
  {
   "cell_type": "markdown",
   "metadata": {},
   "source": [
    "链式提示是将复杂任务分解为多个简单Prompt的策略。在本章中，我们将学习如何通过使用链式 Prompt 将复杂任务拆分为一系列简单的子任务。你可能会想，如果我们可以通过思维链推理一次性完成，那为什么要将任务拆分为多个 Prompt 呢？\n",
    "\n",
    "主要是因为链式提示它具有以下优点:\n",
    "\n",
    "1. 分解复杂度，每个 Prompt 仅处理一个具体子任务，避免过于宽泛的要求，提高成功率。这类似于分阶段烹饪，而不是试图一次完成全部。\n",
    "\n",
    "2. 降低计算成本。过长的 Prompt 使用更多 tokens ，增加成本。拆分 Prompt 可以避免不必要的计算。\n",
    "\n",
    "3. 更容易测试和调试。可以逐步分析每个环节的性能。\n",
    "\n",
    "4. 融入外部工具。不同 Prompt 可以调用 API 、数据库等外部资源。\n",
    "\n",
    "5. 更灵活的工作流程。根据不同情况可以进行不同操作。\n",
    "\n",
    "综上，链式提示通过将复杂任务进行科学拆分，实现了更高效、可靠的提示设计。它使语言模型集中处理单一子任务，减少认知负荷，同时保留了多步骤任务的能力。随着经验增长，开发者可以逐渐掌握运用链式提示的精髓。\n"
   ]
  },
  {
   "cell_type": "markdown",
   "metadata": {},
   "source": [
    "## 一、 提取产品和类别"
   ]
  },
  {
   "cell_type": "markdown",
   "metadata": {},
   "source": [
    "我们所拆解的第一个子任务是，要求 LLM 从用户查询中提取产品和类别。"
   ]
  },
  {
   "cell_type": "code",
   "execution_count": 26,
   "metadata": {},
   "outputs": [
    {
     "name": "stdout",
     "output_type": "stream",
     "text": [
      "[{'category': 'Smartphones and Accessories', 'products': ['SmartX ProPhone']}, {'category': 'Cameras and Camcorders', 'products': ['FotoSnap DSLR Camera', 'FotoSnap Mirrorless Camera', 'FotoSnap Instant Camera']}, {'category': 'Televisions and Home Theater Systems', 'products': ['CineView 4K TV', 'CineView 8K TV', 'CineView OLED TV', 'SoundMax Home Theater', 'SoundMax Soundbar']}]\n"
     ]
    }
   ],
   "source": [
    "from tool import get_completion_from_messages\n",
    "\n",
    "delimiter = \"####\"\n",
    "\n",
    "system_message = f\"\"\"\n",
    "您将获得客户服务查询。\n",
    "客户服务查询将使用{delimiter}字符作为分隔符。\n",
    "请仅输出一个可解析的Python列表，列表每一个元素是一个JSON对象，每个对象具有以下格式：\n",
    "'category': <包括以下几个类别：Computers and Laptops、Smartphones and Accessories、Televisions and Home Theater Systems、Gaming Consoles and Accessories、Audio Equipment、Cameras and Camcorders>,\n",
    "以及\n",
    "'products': <必须是下面的允许产品列表中找到的产品列表>\n",
    "\n",
    "类别和产品必须在客户服务查询中找到。\n",
    "如果提到了某个产品，它必须与允许产品列表中的正确类别关联。\n",
    "如果未找到任何产品或类别，则输出一个空列表。\n",
    "除了列表外，不要输出其他任何信息！\n",
    "\n",
    "允许的产品：\n",
    "\n",
    "Computers and Laptops category:\n",
    "TechPro Ultrabook\n",
    "BlueWave Gaming Laptop\n",
    "PowerLite Convertible\n",
    "TechPro Desktop\n",
    "BlueWave Chromebook\n",
    "\n",
    "Smartphones and Accessories category:\n",
    "SmartX ProPhone\n",
    "MobiTech PowerCase\n",
    "SmartX MiniPhone\n",
    "MobiTech Wireless Charger\n",
    "SmartX EarBuds\n",
    "\n",
    "Televisions and Home Theater Systems category:\n",
    "CineView 4K TV\n",
    "SoundMax Home Theater\n",
    "CineView 8K TV\n",
    "SoundMax Soundbar\n",
    "CineView OLED TV\n",
    "\n",
    "Gaming Consoles and Accessories category:\n",
    "GameSphere X\n",
    "ProGamer Controller\n",
    "GameSphere Y\n",
    "ProGamer Racing Wheel\n",
    "GameSphere VR Headset\n",
    "\n",
    "Audio Equipment category:\n",
    "AudioPhonic Noise-Canceling Headphones\n",
    "WaveSound Bluetooth Speaker\n",
    "AudioPhonic True Wireless Earbuds\n",
    "WaveSound Soundbar\n",
    "AudioPhonic Turntable\n",
    "\n",
    "Cameras and Camcorders category:\n",
    "FotoSnap DSLR Camera\n",
    "ActionCam 4K\n",
    "FotoSnap Mirrorless Camera\n",
    "ZoomMaster Camcorder\n",
    "FotoSnap Instant Camera\n",
    "    \n",
    "只输出对象列表，不包含其他内容。\n",
    "\"\"\"\n",
    "\n",
    "user_message_1 = f\"\"\"\n",
    " 请告诉我关于 smartx pro phone 和 the fotosnap camera 的信息。\n",
    " 另外，请告诉我关于你们的tvs的情况。 \"\"\"\n",
    "\n",
    "messages =  [{'role':'system', 'content': system_message},    \n",
    "             {'role':'user', 'content': f\"{delimiter}{user_message_1}{delimiter}\"}] \n",
    "\n",
    "category_and_product_response_1 = get_completion_from_messages(messages)\n",
    "\n",
    "print(category_and_product_response_1)"
   ]
  },
  {
   "cell_type": "markdown",
   "metadata": {},
   "source": [
    "可以看到，输出是一个对象列表，每个对象都有一个类别和一些产品。如 \"SmartX ProPhone\" 和 \"Fotosnap DSLR Camera\" 、\"CineView 4K TV\"。\n",
    "\n",
    "我们再来看一个例子。"
   ]
  },
  {
   "cell_type": "code",
   "execution_count": 27,
   "metadata": {},
   "outputs": [
    {
     "name": "stdout",
     "output_type": "stream",
     "text": [
      "[]\n"
     ]
    }
   ],
   "source": [
    "user_message_2 = f\"\"\"我的路由器不工作了\"\"\"\n",
    "messages =  [{'role':'system','content': system_message},\n",
    "             {'role':'user','content': f\"{delimiter}{user_message_2}{delimiter}\"}] \n",
    "response = get_completion_from_messages(messages)\n",
    "print(response)"
   ]
  },
  {
   "cell_type": "markdown",
   "metadata": {},
   "source": [
    "## 二、检索详细信息"
   ]
  },
  {
   "cell_type": "markdown",
   "metadata": {},
   "source": [
    "我们提供大量的产品信息作为示例，要求模型提取产品和对应的详细信息。限于篇幅，我们产品信息存储在 products.json 中。\n",
    "\n",
    "首先，让我们通过 Python 代码读取产品信息。"
   ]
  },
  {
   "cell_type": "code",
   "execution_count": 4,
   "metadata": {},
   "outputs": [],
   "source": [
    "import json\n",
    "# 读取产品信息\n",
    "with open(\"products_zh.json\", \"r\") as file:\n",
    "    products = json.load(file)"
   ]
  },
  {
   "cell_type": "markdown",
   "metadata": {},
   "source": [
    "接下来，定义 get_product_by_name 函数，是我们能够根据产品名称获取产品："
   ]
  },
  {
   "cell_type": "code",
   "execution_count": 5,
   "metadata": {},
   "outputs": [],
   "source": [
    "def get_product_by_name(name):\n",
    "    \"\"\"\n",
    "    根据产品名称获取产品\n",
    "\n",
    "    参数:\n",
    "    name: 产品名称\n",
    "    \"\"\"\n",
    "    return products.get(name, None)\n",
    "\n",
    "def get_products_by_category(category):\n",
    "    \"\"\"\n",
    "    根据类别获取产品\n",
    "\n",
    "    参数:\n",
    "    category: 产品类别\n",
    "    \"\"\"\n",
    "    return [product for product in products.values() if product[\"类别\"] == category]"
   ]
  },
  {
   "cell_type": "markdown",
   "metadata": {},
   "source": [
    "调用 get_product_by_name 函数，输入产品名称 “TechPro Ultrabook”： "
   ]
  },
  {
   "cell_type": "code",
   "execution_count": 7,
   "metadata": {},
   "outputs": [
    {
     "data": {
      "text/plain": [
       "{'名称': 'TechPro 超极本',\n",
       " '类别': '电脑和笔记本',\n",
       " '品牌': 'TechPro',\n",
       " '型号': 'TP-UB100',\n",
       " '保修期': '1 year',\n",
       " '评分': 4.5,\n",
       " '特色': ['13.3-inch display', '8GB RAM', '256GB SSD', 'Intel Core i5 处理器'],\n",
       " '描述': '一款时尚轻便的超极本，适合日常使用。',\n",
       " '价格': 799.99}"
      ]
     },
     "execution_count": 7,
     "metadata": {},
     "output_type": "execute_result"
    }
   ],
   "source": [
    "get_product_by_name(\"TechPro Ultrabook\")"
   ]
  },
  {
   "cell_type": "markdown",
   "metadata": {},
   "source": [
    "接下来，我们再看一个例子，调用 get_product_by_name 函数，输入产品名称 “电脑和笔记本”： "
   ]
  },
  {
   "cell_type": "code",
   "execution_count": 8,
   "metadata": {},
   "outputs": [
    {
     "data": {
      "text/plain": [
       "[{'名称': 'TechPro 超极本',\n",
       "  '类别': '电脑和笔记本',\n",
       "  '品牌': 'TechPro',\n",
       "  '型号': 'TP-UB100',\n",
       "  '保修期': '1 year',\n",
       "  '评分': 4.5,\n",
       "  '特色': ['13.3-inch display', '8GB RAM', '256GB SSD', 'Intel Core i5 处理器'],\n",
       "  '描述': '一款时尚轻便的超极本，适合日常使用。',\n",
       "  '价格': 799.99},\n",
       " {'名称': 'BlueWave 游戏本',\n",
       "  '类别': '电脑和笔记本',\n",
       "  '品牌': 'BlueWave',\n",
       "  '型号': 'BW-GL200',\n",
       "  '保修期': '2 years',\n",
       "  '评分': 4.7,\n",
       "  '特色': ['15.6-inch display',\n",
       "   '16GB RAM',\n",
       "   '512GB SSD',\n",
       "   'NVIDIA GeForce RTX 3060'],\n",
       "  '描述': '一款高性能的游戏笔记本电脑，提供沉浸式体验。',\n",
       "  '价格': 1199.99},\n",
       " {'名称': 'PowerLite Convertible',\n",
       "  '类别': '电脑和笔记本',\n",
       "  '品牌': 'PowerLite',\n",
       "  '型号': 'PL-CV300',\n",
       "  '保修期': '1 year',\n",
       "  '评分': 4.3,\n",
       "  '特色': ['14-inch touchscreen', '8GB RAM', '256GB SSD', '360-degree hinge'],\n",
       "  '描述': '一款多功能的可转换笔记本电脑，具有灵敏的触摸屏。',\n",
       "  '价格': 699.99},\n",
       " {'名称': 'TechPro Desktop',\n",
       "  '类别': '电脑和笔记本',\n",
       "  '品牌': 'TechPro',\n",
       "  '型号': 'TP-DT500',\n",
       "  '保修期': '1 year',\n",
       "  '评分': 4.4,\n",
       "  '特色': ['Intel Core i7 processor',\n",
       "   '16GB RAM',\n",
       "   '1TB HDD',\n",
       "   'NVIDIA GeForce GTX 1660'],\n",
       "  '描述': '一款功能强大的台式电脑，适用于工作和娱乐。',\n",
       "  '价格': 999.99},\n",
       " {'名称': 'BlueWave Chromebook',\n",
       "  '类别': '电脑和笔记本',\n",
       "  '品牌': 'BlueWave',\n",
       "  '型号': 'BW-CB100',\n",
       "  '保修期': '1 year',\n",
       "  '评分': 4.1,\n",
       "  '特色': ['11.6-inch display', '4GB RAM', '32GB eMMC', 'Chrome OS'],\n",
       "  '描述': '一款紧凑而价格实惠的Chromebook，适用于日常任务。',\n",
       "  '价格': 249.99}]"
      ]
     },
     "execution_count": 8,
     "metadata": {},
     "output_type": "execute_result"
    }
   ],
   "source": [
    "get_products_by_category(\"电脑和笔记本\")"
   ]
  },
  {
   "cell_type": "markdown",
   "metadata": {},
   "source": [
    "## 三、生成查询答案"
   ]
  },
  {
   "cell_type": "markdown",
   "metadata": {},
   "source": [
    "### 3.1 解析输入字符串"
   ]
  },
  {
   "cell_type": "markdown",
   "metadata": {},
   "source": [
    "定义一个 read_string_to_list 函数，将输入的字符串转换为 Python 列表"
   ]
  },
  {
   "cell_type": "code",
   "execution_count": 7,
   "metadata": {},
   "outputs": [
    {
     "name": "stdout",
     "output_type": "stream",
     "text": [
      "[{'category': 'Smartphones and Accessories', 'products': ['SmartX ProPhone']}, {'category': 'Cameras and Camcorders', 'products': ['FotoSnap DSLR Camera', 'FotoSnap Mirrorless Camera', 'FotoSnap Instant Camera']}, {'category': 'Televisions and Home Theater Systems', 'products': ['CineView 4K TV', 'CineView 8K TV', 'CineView OLED TV', 'SoundMax Home Theater', 'SoundMax Soundbar']}]\n"
     ]
    }
   ],
   "source": [
    "def read_string_to_list(input_string):\n",
    "    \"\"\"\n",
    "    将输入的字符串转换为 Python 列表。\n",
    "\n",
    "    参数:\n",
    "    input_string: 输入的字符串，应为有效的 JSON 格式。\n",
    "\n",
    "    返回:\n",
    "    list 或 None: 如果输入字符串有效，则返回对应的 Python 列表，否则返回 None。\n",
    "    \"\"\"\n",
    "    if input_string is None:\n",
    "        return None\n",
    "\n",
    "    try:\n",
    "        # 将输入字符串中的单引号替换为双引号，以满足 JSON 格式的要求\n",
    "        input_string = input_string.replace(\"'\", \"\\\"\")  \n",
    "        data = json.loads(input_string)\n",
    "        return data\n",
    "    except json.JSONDecodeError:\n",
    "        print(\"Error: Invalid JSON string\")\n",
    "        return None   \n",
    "\n",
    "category_and_product_list = read_string_to_list(category_and_product_response_1)\n",
    "print(category_and_product_list)"
   ]
  },
  {
   "cell_type": "markdown",
   "metadata": {},
   "source": [
    "### 3.2 进行检索"
   ]
  },
  {
   "cell_type": "markdown",
   "metadata": {},
   "source": [
    "定义函数 generate_output_string 函数，根据输入的数据列表生成包含产品或类别信息的字符串："
   ]
  },
  {
   "cell_type": "code",
   "execution_count": 11,
   "metadata": {},
   "outputs": [
    {
     "name": "stdout",
     "output_type": "stream",
     "text": [
      "{\n",
      "    \"名称\": \"SmartX ProPhone\",\n",
      "    \"类别\": \"智能手机和配件\",\n",
      "    \"品牌\": \"SmartX\",\n",
      "    \"型号\": \"SX-PP10\",\n",
      "    \"保修期\": \"1 year\",\n",
      "    \"评分\": 4.6,\n",
      "    \"特色\": [\n",
      "        \"6.1-inch display\",\n",
      "        \"128GB storage\",\n",
      "        \"12MP dual camera\",\n",
      "        \"5G\"\n",
      "    ],\n",
      "    \"描述\": \"一款拥有先进摄像功能的强大智能手机。\",\n",
      "    \"价格\": 899.99\n",
      "}\n",
      "{\n",
      "    \"名称\": \"FotoSnap DSLR Camera\",\n",
      "    \"类别\": \"相机和摄像机\",\n",
      "    \"品牌\": \"FotoSnap\",\n",
      "    \"型号\": \"FS-DSLR200\",\n",
      "    \"保修期\": \"1 year\",\n",
      "    \"评分\": 4.7,\n",
      "    \"特色\": [\n",
      "        \"24.2MP sensor\",\n",
      "        \"1080p video\",\n",
      "        \"3-inch LCD\",\n",
      "        \"Interchangeable lenses\"\n",
      "    ],\n",
      "    \"描述\": \"使用这款多功能的单反相机，捕捉惊艳的照片和视频。\",\n",
      "    \"价格\": 599.99\n",
      "}\n",
      "{\n",
      "    \"名称\": \"FotoSnap Mirrorless Camera\",\n",
      "    \"类别\": \"相机和摄像机\",\n",
      "    \"品牌\": \"FotoSnap\",\n",
      "    \"型号\": \"FS-ML100\",\n",
      "    \"保修期\": \"1 year\",\n",
      "    \"评分\": 4.6,\n",
      "    \"特色\": [\n",
      "        \"20.1MP sensor\",\n",
      "        \"4K video\",\n",
      "        \"3-inch touchscreen\",\n",
      "        \"Interchangeable lenses\"\n",
      "    ],\n",
      "    \"描述\": \"一款具有先进功能的小巧轻便的无反相机。\",\n",
      "    \"价格\": 799.99\n",
      "}\n",
      "{\n",
      "    \"名称\": \"FotoSnap Instant Camera\",\n",
      "    \"类别\": \"相机和摄像机\",\n",
      "    \"品牌\": \"FotoSnap\",\n",
      "    \"型号\": \"FS-IC10\",\n",
      "    \"保修期\": \"1 year\",\n",
      "    \"评分\": 4.1,\n",
      "    \"特色\": [\n",
      "        \"Instant prints\",\n",
      "        \"Built-in flash\",\n",
      "        \"Selfie mirror\",\n",
      "        \"Battery-powered\"\n",
      "    ],\n",
      "    \"描述\": \"使用这款有趣且便携的即时相机，创造瞬间回忆。\",\n",
      "    \"价格\": 69.99\n",
      "}\n",
      "{\n",
      "    \"名称\": \"CineView 4K TV\",\n",
      "    \"类别\": \"电视和家庭影院系统\",\n",
      "    \"品牌\": \"CineView\",\n",
      "    \"型号\": \"CV-4K55\",\n",
      "    \"保修期\": \"2 years\",\n",
      "    \"评分\": 4.8,\n",
      "    \"特色\": [\n",
      "        \"55-inch display\",\n",
      "        \"4K resolution\",\n",
      "        \"HDR\",\n",
      "        \"Smart TV\"\n",
      "    ],\n",
      "    \"描述\": \"一款色彩鲜艳、智能功能丰富的惊艳4K电视。\",\n",
      "    \"价格\": 599.99\n",
      "}\n",
      "{\n",
      "    \"名称\": \"CineView 8K TV\",\n",
      "    \"类别\": \"电视和家庭影院系统\",\n",
      "    \"品牌\": \"CineView\",\n",
      "    \"型号\": \"CV-8K65\",\n",
      "    \"保修期\": \"2 years\",\n",
      "    \"评分\": 4.9,\n",
      "    \"特色\": [\n",
      "        \"65-inch display\",\n",
      "        \"8K resolution\",\n",
      "        \"HDR\",\n",
      "        \"Smart TV\"\n",
      "    ],\n",
      "    \"描述\": \"通过这款惊艳的8K电视，体验未来。\",\n",
      "    \"价格\": 2999.99\n",
      "}\n",
      "{\n",
      "    \"名称\": \"CineView OLED TV\",\n",
      "    \"类别\": \"电视和家庭影院系统\",\n",
      "    \"品牌\": \"CineView\",\n",
      "    \"型号\": \"CV-OLED55\",\n",
      "    \"保修期\": \"2 years\",\n",
      "    \"评分\": 4.7,\n",
      "    \"特色\": [\n",
      "        \"55-inch display\",\n",
      "        \"4K resolution\",\n",
      "        \"HDR\",\n",
      "        \"Smart TV\"\n",
      "    ],\n",
      "    \"描述\": \"通过这款OLED电视，体验真正的五彩斑斓。\",\n",
      "    \"价格\": 1499.99\n",
      "}\n",
      "{\n",
      "    \"名称\": \"SoundMax Home Theater\",\n",
      "    \"类别\": \"电视和家庭影院系统\",\n",
      "    \"品牌\": \"SoundMax\",\n",
      "    \"型号\": \"SM-HT100\",\n",
      "    \"保修期\": \"1 year\",\n",
      "    \"评分\": 4.4,\n",
      "    \"特色\": [\n",
      "        \"5.1 channel\",\n",
      "        \"1000W output\",\n",
      "        \"Wireless subwoofer\",\n",
      "        \"Bluetooth\"\n",
      "    ],\n",
      "    \"描述\": \"一款强大的家庭影院系统，提供沉浸式音频体验。\",\n",
      "    \"价格\": 399.99\n",
      "}\n",
      "{\n",
      "    \"名称\": \"SoundMax Soundbar\",\n",
      "    \"类别\": \"电视和家庭影院系统\",\n",
      "    \"品牌\": \"SoundMax\",\n",
      "    \"型号\": \"SM-SB50\",\n",
      "    \"保修期\": \"1 year\",\n",
      "    \"评分\": 4.3,\n",
      "    \"特色\": [\n",
      "        \"2.1 channel\",\n",
      "        \"300W output\",\n",
      "        \"Wireless subwoofer\",\n",
      "        \"Bluetooth\"\n",
      "    ],\n",
      "    \"描述\": \"使用这款时尚而功能强大的声音，升级您电视的音频体验。\",\n",
      "    \"价格\": 199.99\n",
      "}\n",
      "\n"
     ]
    }
   ],
   "source": [
    "def generate_output_string(data_list):\n",
    "    \"\"\"\n",
    "    根据输入的数据列表生成包含产品或类别信息的字符串。\n",
    "\n",
    "    参数:\n",
    "    data_list: 包含字典的列表，每个字典都应包含 \"products\" 或 \"category\" 的键。\n",
    "\n",
    "    返回:\n",
    "    output_string: 包含产品或类别信息的字符串。\n",
    "    \"\"\"\n",
    "    output_string = \"\"\n",
    "    if data_list is None:\n",
    "        return output_string\n",
    "\n",
    "    for data in data_list:\n",
    "        try:\n",
    "            if \"products\" in data and data[\"products\"]:\n",
    "                products_list = data[\"products\"]\n",
    "                for product_name in products_list:\n",
    "                    product = get_product_by_name(product_name)\n",
    "                    if product:\n",
    "                        output_string += json.dumps(product, indent=4, ensure_ascii=False) + \"\\n\"\n",
    "                    else:\n",
    "                        print(f\"Error: Product '{product_name}' not found\")\n",
    "            elif \"category\" in data:\n",
    "                category_name = data[\"category\"]\n",
    "                category_products = get_products_by_category(category_name)\n",
    "                for product in category_products:\n",
    "                    output_string += json.dumps(product, indent=4, ensure_ascii=False) + \"\\n\"\n",
    "            else:\n",
    "                print(\"Error: Invalid object format\")\n",
    "        except Exception as e:\n",
    "            print(f\"Error: {e}\")\n",
    "\n",
    "    return output_string \n",
    "\n",
    "product_information_for_user_message_1 = generate_output_string(category_and_product_list)\n",
    "print(product_information_for_user_message_1)"
   ]
  },
  {
   "cell_type": "markdown",
   "metadata": {},
   "source": [
    "### 3.3 生成用户查询的答案"
   ]
  },
  {
   "cell_type": "code",
   "execution_count": 12,
   "metadata": {},
   "outputs": [
    {
     "name": "stdout",
     "output_type": "stream",
     "text": [
      "关于SmartX ProPhone和FotoSnap相机的信息如下：\n",
      "\n",
      "SmartX ProPhone是一款由SmartX品牌推出的智能手机。它拥有6.1英寸的显示屏，128GB的存储空间，12MP的双摄像头和5G网络支持。这款手机的特点是先进的摄像功能。它的价格是899.99美元。\n",
      "\n",
      "FotoSnap相机有多个型号可供选择。其中包括DSLR相机、无反相机和即时相机。DSLR相机具有24.2MP的传感器、1080p视频拍摄、3英寸的LCD屏幕和可更换镜头。无反相机具有20.1MP的传感器、4K视频拍摄、3英寸的触摸屏和可更换镜头。即时相机具有即时打印功能、内置闪光灯、自拍镜和电池供电。这些相机的价格分别为599.99美元、799.99美元和69.99美元。\n",
      "\n",
      "关于我们的电视产品，我们有CineView和SoundMax品牌的电视和家庭影院系统可供选择。CineView电视有不同的型号，包括4K分辨率和8K分辨率的电视，以及OLED电视。这些电视都具有HDR和智能电视功能。价格从599.99美元到2999.99美元不等。SoundMax品牌提供家庭影院系统和声音棒。家庭影院系统具有5.1声道、1000W输出、无线低音炮和蓝牙功能，价格为399.99美元。声音棒具有2.1声道、300W输出、无线低音炮和蓝牙功能，价格为199.99美元。\n",
      "\n",
      "请问您对以上产品中的哪个感\n"
     ]
    }
   ],
   "source": [
    "system_message = f\"\"\"\n",
    "您是一家大型电子商店的客服助理。\n",
    "请以友好和乐于助人的口吻回答问题，并尽量简洁明了。\n",
    "请确保向用户提出相关的后续问题。\n",
    "\"\"\"\n",
    "\n",
    "user_message_1 = f\"\"\"\n",
    "请告诉我关于 smartx pro phone 和 the fotosnap camera 的信息。\n",
    "另外，请告诉我关于你们的tvs的情况。\n",
    "\"\"\"\n",
    "\n",
    "messages =  [{'role':'system','content': system_message},\n",
    "             {'role':'user','content': user_message_1},  \n",
    "             {'role':'assistant',\n",
    "              'content': f\"\"\"相关产品信息:\\n\\\n",
    "              {product_information_for_user_message_1}\"\"\"}]\n",
    "\n",
    "final_response = get_completion_from_messages(messages)\n",
    "print(final_response)"
   ]
  },
  {
   "cell_type": "markdown",
   "metadata": {},
   "source": [
    "在这个例子中，我们只添加了一个特定函数或函数的调用，以通过产品名称获取产品描述或通过类别名称获取类别产品。但是，模型实际上擅长决定何时使用各种不同的工具，并可以正确地使用它们。这就是 ChatGPT 插件背后的思想。我们告诉模型它可以访问哪些工具以及它们的作用，它会在需要从特定来源获取信息或想要采取其他适当的操作时选择使用它们。在这个例子中，我们只能通过精确的产品和类别名称匹配查找信息，但还有更高级的信息检索技术。检索信息的最有效方法之一是使用自然语言处理技术，例如命名实体识别和关系提取。\n",
    "\n",
    "另一方法是使用文本嵌入（Embedding）来获取信息。嵌入可以用于实现对大型语料库的高效知识检索，以查找与给定查询相关的信息。使用文本嵌入的一个关键优势是它们可以实现模糊或语义搜索，这使您能够在不使用精确关键字的情况下找到相关信息。因此，在此例子中，我们不一定需要产品的确切名称，而可以使用更一般的查询如 **“手机”** 进行搜索。"
   ]
  },
  {
   "cell_type": "markdown",
   "metadata": {},
   "source": [
    "## 四、总结"
   ]
  },
  {
   "cell_type": "markdown",
   "metadata": {},
   "source": [
    "在设计提示链时，我们并不需要也不建议将所有可能相关信息一次性全加载到模型中，而是采取动态、按需提供信息的策略，原因如下:\n",
    "\n",
    "1. 过多无关信息会使模型处理上下文时更加困惑。尤其是低级模型，处理大量数据会表现衰减。\n",
    "\n",
    "2. 模型本身对上下文长度有限制，无法一次加载过多信息。\n",
    "\n",
    "3. 包含过多信息容易导致模型过拟合，处理新查询时效果较差。\n",
    "\n",
    "4. 动态加载信息可以降低计算成本。\n",
    "\n",
    "5. 允许模型主动决定何时需要更多信息，可以增强其推理能力。\n",
    "\n",
    "6. 我们可以使用更智能的检索机制，而不仅是精确匹配，例如文本 Embedding 实现语义搜索。\n",
    "\n",
    "因此，合理设计提示链的信息提供策略，既考虑模型的能力限制，也兼顾提升其主动学习能力，是提示工程中需要着重考虑的点。希望这些经验可以帮助大家设计出运行高效且智能的提示链系统。\n",
    "\n",
    "在下一章中我们将讨论如何评估语言模型的输出。"
   ]
  },
  {
   "cell_type": "markdown",
   "metadata": {},
   "source": [
    "## 五、英文版"
   ]
  },
  {
   "cell_type": "markdown",
   "metadata": {
    "tags": []
   },
   "source": [
    "**1.1 提取产品和类别**"
   ]
  },
  {
   "cell_type": "code",
   "execution_count": 14,
   "metadata": {},
   "outputs": [
    {
     "data": {
      "text/plain": [
       "\"[{'category': 'Smartphones and Accessories', 'products': ['SmartX ProPhone']}, {'category': 'Cameras and Camcorders', 'products': ['FotoSnap DSLR Camera']}, {'category': 'Televisions and Home Theater Systems', 'products': []}]\""
      ]
     },
     "execution_count": 14,
     "metadata": {},
     "output_type": "execute_result"
    }
   ],
   "source": [
    "delimiter = \"####\"\n",
    "\n",
    "system_message = f\"\"\"\n",
    "You will be provided with customer service queries. \\\n",
    "The customer service query will be delimited with \\\n",
    "{delimiter} characters.\n",
    "Output a Python list of objects, where each object has \\\n",
    "the following format:\n",
    "    'category': <one of Computers and Laptops, \\\n",
    "    Smartphones and Accessories, \\\n",
    "    Televisions and Home Theater Systems, \\\n",
    "    Gaming Consoles and Accessories, \n",
    "    Audio Equipment, Cameras and Camcorders>,\n",
    "and\n",
    "    'products': <products must be found in the customer service query. And products that must \\\n",
    "    be found in the allowed products below. If no products are found, output an empty list.\n",
    "    >\n",
    "\n",
    "Where the categories and products must be found in \\\n",
    "the customer service query.\n",
    "If a product is mentioned, it must be associated with \\\n",
    "the correct category in the allowed products list below.\n",
    "If no products or categories are found, output an \\\n",
    "empty list.\n",
    "\n",
    "Allowed products: \n",
    "\n",
    "Products under Computers and Laptops category:\n",
    "TechPro Ultrabook\n",
    "BlueWave Gaming Laptop\n",
    "PowerLite Convertible\n",
    "TechPro Desktop\n",
    "BlueWave Chromebook\n",
    "\n",
    "Products under Smartphones and Accessories category:\n",
    "SmartX ProPhone\n",
    "MobiTech PowerCase\n",
    "SmartX MiniPhone\n",
    "MobiTech Wireless Charger\n",
    "SmartX EarBuds\n",
    "\n",
    "Products under Televisions and Home Theater Systems category:\n",
    "CineView 4K TV\n",
    "SoundMax Home Theater\n",
    "CineView 8K TV\n",
    "SoundMax Soundbar\n",
    "CineView OLED TV\n",
    "\n",
    "Products under Gaming Consoles and Accessories category:\n",
    "GameSphere X\n",
    "ProGamer Controller\n",
    "GameSphere Y\n",
    "ProGamer Racing Wheel\n",
    "GameSphere VR Headset\n",
    "\n",
    "Products under Audio Equipment category:\n",
    "AudioPhonic Noise-Canceling Headphones\n",
    "WaveSound Bluetooth Speaker\n",
    "AudioPhonic True Wireless Earbuds\n",
    "WaveSound Soundbar\n",
    "AudioPhonic Turntable\n",
    "\n",
    "Products under Cameras and Camcorders category:\n",
    "FotoSnap DSLR Camera\n",
    "ActionCam 4K\n",
    "FotoSnap Mirrorless Camera\n",
    "ZoomMaster Camcorder\n",
    "FotoSnap Instant Camera\n",
    "\n",
    "Only output the list of objects, with nothing else.\n",
    "\"\"\"\n",
    "\n",
    "user_message_1 = f\"\"\"\n",
    " tell me about the smartx pro phone and \\\n",
    " the fotosnap camera, the dslr one. \\\n",
    " Also tell me about your tvs \"\"\"\n",
    "\n",
    "messages =  [  \n",
    "{'role':'system', \n",
    " 'content': system_message},    \n",
    "{'role':'user', \n",
    " 'content': f\"{delimiter}{user_message_1}{delimiter}\"},  \n",
    "] \n",
    "category_and_product_response_1 = get_completion_from_messages(messages)\n",
    "category_and_product_response_1"
   ]
  },
  {
   "cell_type": "code",
   "execution_count": 15,
   "metadata": {},
   "outputs": [
    {
     "name": "stdout",
     "output_type": "stream",
     "text": [
      "[]\n"
     ]
    }
   ],
   "source": [
    "user_message_2 = f\"\"\"\n",
    "my router isn't working\"\"\"\n",
    "messages =  [  \n",
    "{'role':'system',\n",
    " 'content': system_message},    \n",
    "{'role':'user',\n",
    " 'content': f\"{delimiter}{user_message_2}{delimiter}\"},  \n",
    "] \n",
    "response = get_completion_from_messages(messages)\n",
    "print(response)"
   ]
  },
  {
   "cell_type": "markdown",
   "metadata": {},
   "source": [
    "**2.1 检索详细信息**"
   ]
  },
  {
   "cell_type": "code",
   "execution_count": 16,
   "metadata": {},
   "outputs": [],
   "source": [
    "with open(\"products.json\", \"r\") as file:\n",
    "    products = josn.load(file)"
   ]
  },
  {
   "cell_type": "code",
   "execution_count": 17,
   "metadata": {},
   "outputs": [],
   "source": [
    "def get_product_by_name(name):\n",
    "    return products.get(name, None)\n",
    "\n",
    "def get_products_by_category(category):\n",
    "    return [product for product in products.values() if product[\"category\"] == category]"
   ]
  },
  {
   "cell_type": "code",
   "execution_count": 18,
   "metadata": {},
   "outputs": [
    {
     "data": {
      "text/plain": [
       "{'name': 'TechPro Ultrabook',\n",
       " 'category': 'Computers and Laptops',\n",
       " 'brand': 'TechPro',\n",
       " 'model_number': 'TP-UB100',\n",
       " 'warranty': '1 year',\n",
       " 'rating': 4.5,\n",
       " 'features': ['13.3-inch display',\n",
       "  '8GB RAM',\n",
       "  '256GB SSD',\n",
       "  'Intel Core i5 processor'],\n",
       " 'description': 'A sleek and lightweight ultrabook for everyday use.',\n",
       " 'price': 799.99}"
      ]
     },
     "execution_count": 18,
     "metadata": {},
     "output_type": "execute_result"
    }
   ],
   "source": [
    "get_product_by_name(\"TechPro Ultrabook\")"
   ]
  },
  {
   "cell_type": "code",
   "execution_count": 19,
   "metadata": {},
   "outputs": [
    {
     "data": {
      "text/plain": [
       "[{'name': 'TechPro Ultrabook',\n",
       "  'category': 'Computers and Laptops',\n",
       "  'brand': 'TechPro',\n",
       "  'model_number': 'TP-UB100',\n",
       "  'warranty': '1 year',\n",
       "  'rating': 4.5,\n",
       "  'features': ['13.3-inch display',\n",
       "   '8GB RAM',\n",
       "   '256GB SSD',\n",
       "   'Intel Core i5 processor'],\n",
       "  'description': 'A sleek and lightweight ultrabook for everyday use.',\n",
       "  'price': 799.99},\n",
       " {'name': 'BlueWave Gaming Laptop',\n",
       "  'category': 'Computers and Laptops',\n",
       "  'brand': 'BlueWave',\n",
       "  'model_number': 'BW-GL200',\n",
       "  'warranty': '2 years',\n",
       "  'rating': 4.7,\n",
       "  'features': ['15.6-inch display',\n",
       "   '16GB RAM',\n",
       "   '512GB SSD',\n",
       "   'NVIDIA GeForce RTX 3060'],\n",
       "  'description': 'A high-performance gaming laptop for an immersive experience.',\n",
       "  'price': 1199.99},\n",
       " {'name': 'PowerLite Convertible',\n",
       "  'category': 'Computers and Laptops',\n",
       "  'brand': 'PowerLite',\n",
       "  'model_number': 'PL-CV300',\n",
       "  'warranty': '1 year',\n",
       "  'rating': 4.3,\n",
       "  'features': ['14-inch touchscreen',\n",
       "   '8GB RAM',\n",
       "   '256GB SSD',\n",
       "   '360-degree hinge'],\n",
       "  'description': 'A versatile convertible laptop with a responsive touchscreen.',\n",
       "  'price': 699.99},\n",
       " {'name': 'TechPro Desktop',\n",
       "  'category': 'Computers and Laptops',\n",
       "  'brand': 'TechPro',\n",
       "  'model_number': 'TP-DT500',\n",
       "  'warranty': '1 year',\n",
       "  'rating': 4.4,\n",
       "  'features': ['Intel Core i7 processor',\n",
       "   '16GB RAM',\n",
       "   '1TB HDD',\n",
       "   'NVIDIA GeForce GTX 1660'],\n",
       "  'description': 'A powerful desktop computer for work and play.',\n",
       "  'price': 999.99},\n",
       " {'name': 'BlueWave Chromebook',\n",
       "  'category': 'Computers and Laptops',\n",
       "  'brand': 'BlueWave',\n",
       "  'model_number': 'BW-CB100',\n",
       "  'warranty': '1 year',\n",
       "  'rating': 4.1,\n",
       "  'features': ['11.6-inch display', '4GB RAM', '32GB eMMC', 'Chrome OS'],\n",
       "  'description': 'A compact and affordable Chromebook for everyday tasks.',\n",
       "  'price': 249.99}]"
      ]
     },
     "execution_count": 19,
     "metadata": {},
     "output_type": "execute_result"
    }
   ],
   "source": [
    "get_products_by_category(\"Computers and Laptops\")"
   ]
  },
  {
   "cell_type": "markdown",
   "metadata": {},
   "source": [
    "**3.1 解析输入字符串**"
   ]
  },
  {
   "cell_type": "code",
   "execution_count": 20,
   "metadata": {},
   "outputs": [],
   "source": [
    "def read_string_to_list(input_string):\n",
    "    \"\"\"\n",
    "    将输入的字符串转换为 Python 列表。\n",
    "\n",
    "    参数:\n",
    "    input_string: 输入的字符串，应为有效的 JSON 格式。\n",
    "\n",
    "    返回:\n",
    "    list 或 None: 如果输入字符串有效，则返回对应的 Python 列表，否则返回 None。\n",
    "    \"\"\"\n",
    "    if input_string is None:\n",
    "        return None\n",
    "\n",
    "    try:\n",
    "        # 将输入字符串中的单引号替换为双引号，以满足 JSON 格式的要求\n",
    "        input_string = input_string.replace(\"'\", \"\\\"\")  \n",
    "        data = json.loads(input_string)\n",
    "        return data\n",
    "    except json.JSONDecodeError:\n",
    "        print(\"Error: Invalid JSON string\")\n",
    "        return None   "
   ]
  },
  {
   "cell_type": "code",
   "execution_count": 21,
   "metadata": {},
   "outputs": [
    {
     "name": "stdout",
     "output_type": "stream",
     "text": [
      "[{'category': 'Smartphones and Accessories', 'products': ['SmartX ProPhone']}, {'category': 'Cameras and Camcorders', 'products': ['FotoSnap DSLR Camera']}, {'category': 'Televisions and Home Theater Systems', 'products': []}]\n"
     ]
    }
   ],
   "source": [
    "category_and_product_list = read_string_to_list(category_and_product_response_1)\n",
    "category_and_product_list"
   ]
  },
  {
   "cell_type": "markdown",
   "metadata": {},
   "source": [
    "**3.2 进行检索**"
   ]
  },
  {
   "cell_type": "code",
   "execution_count": 22,
   "metadata": {},
   "outputs": [],
   "source": [
    "def generate_output_string(data_list):\n",
    "    \"\"\"\n",
    "    根据输入的数据列表生成包含产品或类别信息的字符串。\n",
    "\n",
    "    参数:\n",
    "    data_list: 包含字典的列表，每个字典都应包含 \"products\" 或 \"category\" 的键。\n",
    "\n",
    "    返回:\n",
    "    output_string: 包含产品或类别信息的字符串。\n",
    "    \"\"\"\n",
    "    output_string = \"\"\n",
    "    if data_list is None:\n",
    "        return output_string\n",
    "\n",
    "    for data in data_list:\n",
    "        try:\n",
    "            if \"products\" in data and data[\"products\"]:\n",
    "                products_list = data[\"products\"]\n",
    "                for product_name in products_list:\n",
    "                    product = get_product_by_name(product_name)\n",
    "                    if product:\n",
    "                        output_string += json.dumps(product, indent=4, ensure_ascii=False) + \"\\n\"\n",
    "                    else:\n",
    "                        print(f\"Error: Product '{product_name}' not found\")\n",
    "            elif \"category\" in data:\n",
    "                category_name = data[\"category\"]\n",
    "                category_products = get_products_by_category(category_name)\n",
    "                for product in category_products:\n",
    "                    output_string += json.dumps(product, indent=4, ensure_ascii=False) + \"\\n\"\n",
    "            else:\n",
    "                print(\"Error: Invalid object format\")\n",
    "        except Exception as e:\n",
    "            print(f\"Error: {e}\")\n",
    "\n",
    "    return output_string "
   ]
  },
  {
   "cell_type": "code",
   "execution_count": 23,
   "metadata": {},
   "outputs": [
    {
     "name": "stdout",
     "output_type": "stream",
     "text": [
      "{\n",
      "    \"name\": \"SmartX ProPhone\",\n",
      "    \"category\": \"Smartphones and Accessories\",\n",
      "    \"brand\": \"SmartX\",\n",
      "    \"model_number\": \"SX-PP10\",\n",
      "    \"warranty\": \"1 year\",\n",
      "    \"rating\": 4.6,\n",
      "    \"features\": [\n",
      "        \"6.1-inch display\",\n",
      "        \"128GB storage\",\n",
      "        \"12MP dual camera\",\n",
      "        \"5G\"\n",
      "    ],\n",
      "    \"description\": \"A powerful smartphone with advanced camera features.\",\n",
      "    \"price\": 899.99\n",
      "}\n",
      "{\n",
      "    \"name\": \"FotoSnap DSLR Camera\",\n",
      "    \"category\": \"Cameras and Camcorders\",\n",
      "    \"brand\": \"FotoSnap\",\n",
      "    \"model_number\": \"FS-DSLR200\",\n",
      "    \"warranty\": \"1 year\",\n",
      "    \"rating\": 4.7,\n",
      "    \"features\": [\n",
      "        \"24.2MP sensor\",\n",
      "        \"1080p video\",\n",
      "        \"3-inch LCD\",\n",
      "        \"Interchangeable lenses\"\n",
      "    ],\n",
      "    \"description\": \"Capture stunning photos and videos with this versatile DSLR camera.\",\n",
      "    \"price\": 599.99\n",
      "}\n",
      "{\n",
      "    \"name\": \"CineView 4K TV\",\n",
      "    \"category\": \"Televisions and Home Theater Systems\",\n",
      "    \"brand\": \"CineView\",\n",
      "    \"model_number\": \"CV-4K55\",\n",
      "    \"warranty\": \"2 years\",\n",
      "    \"rating\": 4.8,\n",
      "    \"features\": [\n",
      "        \"55-inch display\",\n",
      "        \"4K resolution\",\n",
      "        \"HDR\",\n",
      "        \"Smart TV\"\n",
      "    ],\n",
      "    \"description\": \"A stunning 4K TV with vibrant colors and smart features.\",\n",
      "    \"price\": 599.99\n",
      "}\n",
      "{\n",
      "    \"name\": \"SoundMax Home Theater\",\n",
      "    \"category\": \"Televisions and Home Theater Systems\",\n",
      "    \"brand\": \"SoundMax\",\n",
      "    \"model_number\": \"SM-HT100\",\n",
      "    \"warranty\": \"1 year\",\n",
      "    \"rating\": 4.4,\n",
      "    \"features\": [\n",
      "        \"5.1 channel\",\n",
      "        \"1000W output\",\n",
      "        \"Wireless subwoofer\",\n",
      "        \"Bluetooth\"\n",
      "    ],\n",
      "    \"description\": \"A powerful home theater system for an immersive audio experience.\",\n",
      "    \"price\": 399.99\n",
      "}\n",
      "{\n",
      "    \"name\": \"CineView 8K TV\",\n",
      "    \"category\": \"Televisions and Home Theater Systems\",\n",
      "    \"brand\": \"CineView\",\n",
      "    \"model_number\": \"CV-8K65\",\n",
      "    \"warranty\": \"2 years\",\n",
      "    \"rating\": 4.9,\n",
      "    \"features\": [\n",
      "        \"65-inch display\",\n",
      "        \"8K resolution\",\n",
      "        \"HDR\",\n",
      "        \"Smart TV\"\n",
      "    ],\n",
      "    \"description\": \"Experience the future of television with this stunning 8K TV.\",\n",
      "    \"price\": 2999.99\n",
      "}\n",
      "{\n",
      "    \"name\": \"SoundMax Soundbar\",\n",
      "    \"category\": \"Televisions and Home Theater Systems\",\n",
      "    \"brand\": \"SoundMax\",\n",
      "    \"model_number\": \"SM-SB50\",\n",
      "    \"warranty\": \"1 year\",\n",
      "    \"rating\": 4.3,\n",
      "    \"features\": [\n",
      "        \"2.1 channel\",\n",
      "        \"300W output\",\n",
      "        \"Wireless subwoofer\",\n",
      "        \"Bluetooth\"\n",
      "    ],\n",
      "    \"description\": \"Upgrade your TV's audio with this sleek and powerful soundbar.\",\n",
      "    \"price\": 199.99\n",
      "}\n",
      "{\n",
      "    \"name\": \"CineView OLED TV\",\n",
      "    \"category\": \"Televisions and Home Theater Systems\",\n",
      "    \"brand\": \"CineView\",\n",
      "    \"model_number\": \"CV-OLED55\",\n",
      "    \"warranty\": \"2 years\",\n",
      "    \"rating\": 4.7,\n",
      "    \"features\": [\n",
      "        \"55-inch display\",\n",
      "        \"4K resolution\",\n",
      "        \"HDR\",\n",
      "        \"Smart TV\"\n",
      "    ],\n",
      "    \"description\": \"Experience true blacks and vibrant colors with this OLED TV.\",\n",
      "    \"price\": 1499.99\n",
      "}\n",
      "\n"
     ]
    }
   ],
   "source": [
    "product_information_for_user_message_1 = generate_output_string(category_and_product_list)\n",
    "print(product_information_for_user_message_1)"
   ]
  },
  {
   "cell_type": "markdown",
   "metadata": {},
   "source": [
    "**3.3 生成用户查询的答案**"
   ]
  },
  {
   "cell_type": "code",
   "execution_count": 24,
   "metadata": {},
   "outputs": [
    {
     "name": "stdout",
     "output_type": "stream",
     "text": [
      "The SmartX ProPhone is a powerful smartphone with a 6.1-inch display, 128GB storage, a 12MP dual camera, and 5G capability. It is priced at $899.99 and comes with a 1-year warranty. \n",
      "\n",
      "The FotoSnap DSLR Camera is a versatile camera with a 24.2MP sensor, 1080p video recording, a 3-inch LCD screen, and interchangeable lenses. It is priced at $599.99 and also comes with a 1-year warranty.\n",
      "\n",
      "As for our TVs, we have a range of options. The CineView 4K TV is a 55-inch TV with 4K resolution, HDR, and smart TV features. It is priced at $599.99 and comes with a 2-year warranty.\n",
      "\n",
      "We also have the CineView 8K TV, which is a 65-inch TV with 8K resolution, HDR, and smart TV features. It is priced at $2999.99 and also comes with a 2-year warranty.\n",
      "\n",
      "Lastly, we have the CineView OLED TV, which is a 55-inch TV with 4K resolution, HDR, and smart TV features. It is priced at $1499.99 and comes with a 2-year warranty.\n",
      "\n",
      "Is there anything specific you would like to know about these products?\n"
     ]
    }
   ],
   "source": [
    "system_message = f\"\"\"\n",
    "You are a customer service assistant for a \\\n",
    "large electronic store. \\\n",
    "Respond in a friendly and helpful tone, \\\n",
    "with very concise answers. \\\n",
    "Make sure to ask the user relevant follow up questions.\n",
    "\"\"\"\n",
    "user_message_1 = f\"\"\"\n",
    "tell me about the smartx pro phone and \\\n",
    "the fotosnap camera, the dslr one. \\\n",
    "Also tell me about your tvs\"\"\"\n",
    "messages =  [{'role':'system','content': system_message},   \n",
    "             {'role':'user','content': user_message_1},\n",
    "             {'role':'assistant',\n",
    "              'content': f\"\"\"Relevant product information:\\n\\\n",
    "              {product_information_for_user_message_1}\"\"\"}]\n",
    "final_response = get_completion_from_messages(messages)\n",
    "print(final_response)"
   ]
  }
 ],
 "metadata": {
  "kernelspec": {
   "display_name": "Python 3 (ipykernel)",
   "language": "python",
   "name": "python3"
  },
  "language_info": {
   "codemirror_mode": {
    "name": "ipython",
    "version": 3
   },
   "file_extension": ".py",
   "mimetype": "text/x-python",
   "name": "python",
   "nbconvert_exporter": "python",
   "pygments_lexer": "ipython3",
   "version": "3.8.10"
  }
 },
 "nbformat": 4,
 "nbformat_minor": 4
}
